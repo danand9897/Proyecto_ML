{
  "nbformat": 4,
  "nbformat_minor": 0,
  "metadata": {
    "colab": {
      "name": "Proyecto_GarciaAndres.ipynb",
      "provenance": [],
      "collapsed_sections": []
    },
    "kernelspec": {
      "name": "python3",
      "display_name": "Python 3"
    },
    "language_info": {
      "name": "python"
    }
  },
  "cells": [
    {
      "cell_type": "code",
      "metadata": {
        "id": "MoXSB52hzjQ2"
      },
      "source": [
        "import pandas as pd\n",
        "import numpy as np\n",
        "import seaborn as sns\n",
        "import matplotlib.pyplot as plt\n",
        "from sklearn.preprocessing import LabelEncoder, MinMaxScaler\n",
        "from sklearn.model_selection import train_test_split\n",
        "from keras.models import Sequential\n",
        "from keras.layers import Dense\n",
        "from sklearn.neighbors import KNeighborsClassifier\n",
        "from sklearn.svm import SVC\n",
        "from sklearn.metrics import accuracy_score\n",
        "from sklearn.ensemble import RandomForestRegressor\n",
        "from sklearn.linear_model import LinearRegression, LogisticRegression\n",
        "from sklearn.metrics import r2_score\n",
        "from sklearn.metrics import mean_absolute_error\n",
        "from sklearn.feature_extraction.text import CountVectorizer\n",
        "from keras.preprocessing.text import Tokenizer\n",
        "from keras.wrappers.scikit_learn import KerasClassifier\n",
        "from keras import layers\n",
        "from sklearn import tree\n",
        "from sklearn.decomposition import PCA"
      ],
      "execution_count": null,
      "outputs": []
    },
    {
      "cell_type": "code",
      "metadata": {
        "colab": {
          "base_uri": "https://localhost:8080/"
        },
        "id": "I-7kGbGd1xp_",
        "outputId": "3c2b210c-1fb2-4b77-eed4-3cf4fe775f4f"
      },
      "source": [
        "from imblearn.over_sampling import RandomOverSampler, SMOTE\n",
        "from imblearn.under_sampling import RandomUnderSampler"
      ],
      "execution_count": null,
      "outputs": [
        {
          "output_type": "stream",
          "name": "stderr",
          "text": [
            "/usr/local/lib/python3.7/dist-packages/sklearn/externals/six.py:31: FutureWarning: The module is deprecated in version 0.21 and will be removed in version 0.23 since we've dropped support for Python 2.7. Please rely on the official version of six (https://pypi.org/project/six/).\n",
            "  \"(https://pypi.org/project/six/).\", FutureWarning)\n",
            "/usr/local/lib/python3.7/dist-packages/sklearn/utils/deprecation.py:144: FutureWarning: The sklearn.neighbors.base module is  deprecated in version 0.22 and will be removed in version 0.24. The corresponding classes / functions should instead be imported from sklearn.neighbors. Anything that cannot be imported from sklearn.neighbors is now part of the private API.\n",
            "  warnings.warn(message, FutureWarning)\n"
          ]
        }
      ]
    },
    {
      "cell_type": "code",
      "metadata": {
        "colab": {
          "base_uri": "https://localhost:8080/"
        },
        "id": "epyzN07J1I4M",
        "outputId": "6f913c5e-f90e-491d-bf5e-4373ce2dd765"
      },
      "source": [
        "from nltk import ngrams\n",
        "from nltk.tokenize import sent_tokenize\n",
        "import nltk\n",
        "nltk.download('punkt')\n",
        "nltk.download('stopwords')\n",
        "nltk.download('wordnet')\n",
        "from nltk.stem import PorterStemmer\n",
        "from nltk.stem import PorterStemmer\n",
        "from nltk.tokenize import sent_tokenize, word_tokenize\n",
        "from nltk.stem import WordNetLemmatizer\n",
        "from nltk.corpus import stopwords \n",
        "from nltk.tokenize import word_tokenize"
      ],
      "execution_count": null,
      "outputs": [
        {
          "output_type": "stream",
          "name": "stdout",
          "text": [
            "[nltk_data] Downloading package punkt to /root/nltk_data...\n",
            "[nltk_data]   Unzipping tokenizers/punkt.zip.\n",
            "[nltk_data] Downloading package stopwords to /root/nltk_data...\n",
            "[nltk_data]   Unzipping corpora/stopwords.zip.\n",
            "[nltk_data] Downloading package wordnet to /root/nltk_data...\n",
            "[nltk_data]   Unzipping corpora/wordnet.zip.\n"
          ]
        }
      ]
    },
    {
      "cell_type": "code",
      "metadata": {
        "id": "1-XQJaf70DoN"
      },
      "source": [
        "data = pd.read_csv('/content/sqli.csv',encoding='utf-16')"
      ],
      "execution_count": null,
      "outputs": []
    },
    {
      "cell_type": "code",
      "metadata": {
        "colab": {
          "base_uri": "https://localhost:8080/"
        },
        "id": "WInkMia_175j",
        "outputId": "7bf15aef-117d-46c4-bfda-28e2c9acb848"
      },
      "source": [
        "data.head"
      ],
      "execution_count": null,
      "outputs": [
        {
          "output_type": "execute_result",
          "data": {
            "text/plain": [
              "<bound method NDFrame.head of                                                Sentence  Label\n",
              "0                                                     a      1\n",
              "1                                                   a'       1\n",
              "2                                                 a' --      1\n",
              "3                                       a' or 1 = 1; --      1\n",
              "4                                                     @      1\n",
              "...                                                 ...    ...\n",
              "4195   org/?option = com_k2  <a href = \"http://corfopym      0\n",
              "4196  com/?option = com_k2  <act>  <![CDATA[procMemb...      0\n",
              "4197                                          picsearch      0\n",
              "4198  com/is?-WZx-uhyLezKNiYLvAbKL3W4oh5F749nr2KUmFF...      0\n",
              "4199  de]]>  </email_address>   <find_account_answer...      0\n",
              "\n",
              "[4200 rows x 2 columns]>"
            ]
          },
          "metadata": {},
          "execution_count": 4
        }
      ]
    },
    {
      "cell_type": "code",
      "metadata": {
        "colab": {
          "base_uri": "https://localhost:8080/"
        },
        "id": "s1WkKrkh2A-l",
        "outputId": "fecfeb9a-9078-43e3-e3f8-012079ec8a3d"
      },
      "source": [
        "data.info()"
      ],
      "execution_count": null,
      "outputs": [
        {
          "output_type": "stream",
          "name": "stdout",
          "text": [
            "<class 'pandas.core.frame.DataFrame'>\n",
            "RangeIndex: 4200 entries, 0 to 4199\n",
            "Data columns (total 2 columns):\n",
            " #   Column    Non-Null Count  Dtype \n",
            "---  ------    --------------  ----- \n",
            " 0   Sentence  4187 non-null   object\n",
            " 1   Label     4200 non-null   int64 \n",
            "dtypes: int64(1), object(1)\n",
            "memory usage: 65.8+ KB\n"
          ]
        }
      ]
    },
    {
      "cell_type": "code",
      "metadata": {
        "colab": {
          "base_uri": "https://localhost:8080/",
          "height": 300
        },
        "id": "_FAM6lYC2IFD",
        "outputId": "22ee576b-fb00-4dc8-82c1-4cf81466cedb"
      },
      "source": [
        "data.describe()"
      ],
      "execution_count": null,
      "outputs": [
        {
          "output_type": "execute_result",
          "data": {
            "text/html": [
              "<div>\n",
              "<style scoped>\n",
              "    .dataframe tbody tr th:only-of-type {\n",
              "        vertical-align: middle;\n",
              "    }\n",
              "\n",
              "    .dataframe tbody tr th {\n",
              "        vertical-align: top;\n",
              "    }\n",
              "\n",
              "    .dataframe thead th {\n",
              "        text-align: right;\n",
              "    }\n",
              "</style>\n",
              "<table border=\"1\" class=\"dataframe\">\n",
              "  <thead>\n",
              "    <tr style=\"text-align: right;\">\n",
              "      <th></th>\n",
              "      <th>Label</th>\n",
              "    </tr>\n",
              "  </thead>\n",
              "  <tbody>\n",
              "    <tr>\n",
              "      <th>count</th>\n",
              "      <td>4200.000000</td>\n",
              "    </tr>\n",
              "    <tr>\n",
              "      <th>mean</th>\n",
              "      <td>0.268571</td>\n",
              "    </tr>\n",
              "    <tr>\n",
              "      <th>std</th>\n",
              "      <td>0.443269</td>\n",
              "    </tr>\n",
              "    <tr>\n",
              "      <th>min</th>\n",
              "      <td>0.000000</td>\n",
              "    </tr>\n",
              "    <tr>\n",
              "      <th>25%</th>\n",
              "      <td>0.000000</td>\n",
              "    </tr>\n",
              "    <tr>\n",
              "      <th>50%</th>\n",
              "      <td>0.000000</td>\n",
              "    </tr>\n",
              "    <tr>\n",
              "      <th>75%</th>\n",
              "      <td>1.000000</td>\n",
              "    </tr>\n",
              "    <tr>\n",
              "      <th>max</th>\n",
              "      <td>1.000000</td>\n",
              "    </tr>\n",
              "  </tbody>\n",
              "</table>\n",
              "</div>"
            ],
            "text/plain": [
              "             Label\n",
              "count  4200.000000\n",
              "mean      0.268571\n",
              "std       0.443269\n",
              "min       0.000000\n",
              "25%       0.000000\n",
              "50%       0.000000\n",
              "75%       1.000000\n",
              "max       1.000000"
            ]
          },
          "metadata": {},
          "execution_count": 6
        }
      ]
    },
    {
      "cell_type": "code",
      "metadata": {
        "colab": {
          "base_uri": "https://localhost:8080/",
          "height": 424
        },
        "id": "4NR-3gBhw-Iy",
        "outputId": "6c59d4dd-80a9-44a3-9f81-928efdd1ffcc"
      },
      "source": [
        "data"
      ],
      "execution_count": null,
      "outputs": [
        {
          "output_type": "execute_result",
          "data": {
            "text/html": [
              "<div>\n",
              "<style scoped>\n",
              "    .dataframe tbody tr th:only-of-type {\n",
              "        vertical-align: middle;\n",
              "    }\n",
              "\n",
              "    .dataframe tbody tr th {\n",
              "        vertical-align: top;\n",
              "    }\n",
              "\n",
              "    .dataframe thead th {\n",
              "        text-align: right;\n",
              "    }\n",
              "</style>\n",
              "<table border=\"1\" class=\"dataframe\">\n",
              "  <thead>\n",
              "    <tr style=\"text-align: right;\">\n",
              "      <th></th>\n",
              "      <th>Sentence</th>\n",
              "      <th>Label</th>\n",
              "    </tr>\n",
              "  </thead>\n",
              "  <tbody>\n",
              "    <tr>\n",
              "      <th>0</th>\n",
              "      <td>a</td>\n",
              "      <td>1</td>\n",
              "    </tr>\n",
              "    <tr>\n",
              "      <th>1</th>\n",
              "      <td>a'</td>\n",
              "      <td>1</td>\n",
              "    </tr>\n",
              "    <tr>\n",
              "      <th>2</th>\n",
              "      <td>a' --</td>\n",
              "      <td>1</td>\n",
              "    </tr>\n",
              "    <tr>\n",
              "      <th>3</th>\n",
              "      <td>a' or 1 = 1; --</td>\n",
              "      <td>1</td>\n",
              "    </tr>\n",
              "    <tr>\n",
              "      <th>4</th>\n",
              "      <td>@</td>\n",
              "      <td>1</td>\n",
              "    </tr>\n",
              "    <tr>\n",
              "      <th>...</th>\n",
              "      <td>...</td>\n",
              "      <td>...</td>\n",
              "    </tr>\n",
              "    <tr>\n",
              "      <th>4195</th>\n",
              "      <td>org/?option = com_k2  &lt;a href = \"http://corfopym</td>\n",
              "      <td>0</td>\n",
              "    </tr>\n",
              "    <tr>\n",
              "      <th>4196</th>\n",
              "      <td>com/?option = com_k2  &lt;act&gt;  &lt;![CDATA[procMemb...</td>\n",
              "      <td>0</td>\n",
              "    </tr>\n",
              "    <tr>\n",
              "      <th>4197</th>\n",
              "      <td>picsearch</td>\n",
              "      <td>0</td>\n",
              "    </tr>\n",
              "    <tr>\n",
              "      <th>4198</th>\n",
              "      <td>com/is?-WZx-uhyLezKNiYLvAbKL3W4oh5F749nr2KUmFF...</td>\n",
              "      <td>0</td>\n",
              "    </tr>\n",
              "    <tr>\n",
              "      <th>4199</th>\n",
              "      <td>de]]&gt;  &lt;/email_address&gt;   &lt;find_account_answer...</td>\n",
              "      <td>0</td>\n",
              "    </tr>\n",
              "  </tbody>\n",
              "</table>\n",
              "<p>4200 rows × 2 columns</p>\n",
              "</div>"
            ],
            "text/plain": [
              "                                               Sentence  Label\n",
              "0                                                     a      1\n",
              "1                                                   a'       1\n",
              "2                                                 a' --      1\n",
              "3                                       a' or 1 = 1; --      1\n",
              "4                                                     @      1\n",
              "...                                                 ...    ...\n",
              "4195   org/?option = com_k2  <a href = \"http://corfopym      0\n",
              "4196  com/?option = com_k2  <act>  <![CDATA[procMemb...      0\n",
              "4197                                          picsearch      0\n",
              "4198  com/is?-WZx-uhyLezKNiYLvAbKL3W4oh5F749nr2KUmFF...      0\n",
              "4199  de]]>  </email_address>   <find_account_answer...      0\n",
              "\n",
              "[4200 rows x 2 columns]"
            ]
          },
          "metadata": {},
          "execution_count": 7
        }
      ]
    },
    {
      "cell_type": "code",
      "metadata": {
        "id": "FUZDfeiD1i40"
      },
      "source": [
        "df=data"
      ],
      "execution_count": null,
      "outputs": []
    },
    {
      "cell_type": "code",
      "metadata": {
        "colab": {
          "base_uri": "https://localhost:8080/"
        },
        "id": "SI6LOhKexDkA",
        "outputId": "3f6e6d1d-be0c-4527-8d0b-f6779ef7bbc6"
      },
      "source": [
        "df.columns"
      ],
      "execution_count": null,
      "outputs": [
        {
          "output_type": "execute_result",
          "data": {
            "text/plain": [
              "Index(['Sentence', 'Label'], dtype='object')"
            ]
          },
          "metadata": {},
          "execution_count": 9
        }
      ]
    },
    {
      "cell_type": "code",
      "metadata": {
        "colab": {
          "base_uri": "https://localhost:8080/"
        },
        "id": "OwmRPe4CyVDI",
        "outputId": "048072f2-3786-43c2-bb8e-2c551ae2c5e5"
      },
      "source": [
        "df.info()"
      ],
      "execution_count": null,
      "outputs": [
        {
          "output_type": "stream",
          "name": "stdout",
          "text": [
            "<class 'pandas.core.frame.DataFrame'>\n",
            "RangeIndex: 4200 entries, 0 to 4199\n",
            "Data columns (total 2 columns):\n",
            " #   Column    Non-Null Count  Dtype \n",
            "---  ------    --------------  ----- \n",
            " 0   Sentence  4187 non-null   object\n",
            " 1   Label     4200 non-null   int64 \n",
            "dtypes: int64(1), object(1)\n",
            "memory usage: 65.8+ KB\n"
          ]
        }
      ]
    },
    {
      "cell_type": "code",
      "metadata": {
        "id": "M_3x-b-50Dlu"
      },
      "source": [
        "vectorizer = CountVectorizer(min_df=2, max_df=0.7,stop_words=stopwords.words('english'))\n"
      ],
      "execution_count": null,
      "outputs": []
    },
    {
      "cell_type": "code",
      "metadata": {
        "id": "GCmhegAK0DhR"
      },
      "source": [
        "posts = vectorizer.fit_transform(df['Sentence'].values.astype('U')).toarray()"
      ],
      "execution_count": null,
      "outputs": []
    },
    {
      "cell_type": "code",
      "metadata": {
        "colab": {
          "base_uri": "https://localhost:8080/"
        },
        "id": "PI_IBa5L14ps",
        "outputId": "14060498-a767-4d8e-d9ba-98ee33c43ff1"
      },
      "source": [
        "posts"
      ],
      "execution_count": null,
      "outputs": [
        {
          "output_type": "execute_result",
          "data": {
            "text/plain": [
              "array([[0, 0, 0, ..., 0, 0, 0],\n",
              "       [0, 0, 0, ..., 0, 0, 0],\n",
              "       [0, 0, 0, ..., 0, 0, 0],\n",
              "       ...,\n",
              "       [0, 0, 0, ..., 0, 0, 0],\n",
              "       [0, 0, 0, ..., 0, 0, 0],\n",
              "       [0, 0, 1, ..., 0, 0, 0]])"
            ]
          },
          "metadata": {},
          "execution_count": 13
        }
      ]
    },
    {
      "cell_type": "code",
      "metadata": {
        "id": "rHC-mPOV0DfK"
      },
      "source": [
        "transformed_posts=pd.DataFrame(posts)"
      ],
      "execution_count": null,
      "outputs": []
    },
    {
      "cell_type": "code",
      "metadata": {
        "id": "V9SO4ejx0Dcu"
      },
      "source": [
        "df=pd.concat([df,transformed_posts], axis=1)"
      ],
      "execution_count": null,
      "outputs": []
    },
    {
      "cell_type": "code",
      "metadata": {
        "colab": {
          "base_uri": "https://localhost:8080/",
          "height": 513
        },
        "id": "tUlnfO9LBi67",
        "outputId": "037f76e5-5bbe-4080-84d7-6f10890cf705"
      },
      "source": [
        "df"
      ],
      "execution_count": null,
      "outputs": [
        {
          "output_type": "execute_result",
          "data": {
            "text/html": [
              "<div>\n",
              "<style scoped>\n",
              "    .dataframe tbody tr th:only-of-type {\n",
              "        vertical-align: middle;\n",
              "    }\n",
              "\n",
              "    .dataframe tbody tr th {\n",
              "        vertical-align: top;\n",
              "    }\n",
              "\n",
              "    .dataframe thead th {\n",
              "        text-align: right;\n",
              "    }\n",
              "</style>\n",
              "<table border=\"1\" class=\"dataframe\">\n",
              "  <thead>\n",
              "    <tr style=\"text-align: right;\">\n",
              "      <th></th>\n",
              "      <th>Sentence</th>\n",
              "      <th>Label</th>\n",
              "      <th>0</th>\n",
              "      <th>1</th>\n",
              "      <th>2</th>\n",
              "      <th>3</th>\n",
              "      <th>4</th>\n",
              "      <th>5</th>\n",
              "      <th>6</th>\n",
              "      <th>7</th>\n",
              "      <th>8</th>\n",
              "      <th>9</th>\n",
              "      <th>10</th>\n",
              "      <th>11</th>\n",
              "      <th>12</th>\n",
              "      <th>13</th>\n",
              "      <th>14</th>\n",
              "      <th>15</th>\n",
              "      <th>16</th>\n",
              "      <th>17</th>\n",
              "      <th>18</th>\n",
              "      <th>19</th>\n",
              "      <th>20</th>\n",
              "      <th>21</th>\n",
              "      <th>22</th>\n",
              "      <th>23</th>\n",
              "      <th>24</th>\n",
              "      <th>25</th>\n",
              "      <th>26</th>\n",
              "      <th>27</th>\n",
              "      <th>28</th>\n",
              "      <th>29</th>\n",
              "      <th>30</th>\n",
              "      <th>31</th>\n",
              "      <th>32</th>\n",
              "      <th>33</th>\n",
              "      <th>34</th>\n",
              "      <th>35</th>\n",
              "      <th>36</th>\n",
              "      <th>37</th>\n",
              "      <th>...</th>\n",
              "      <th>4677</th>\n",
              "      <th>4678</th>\n",
              "      <th>4679</th>\n",
              "      <th>4680</th>\n",
              "      <th>4681</th>\n",
              "      <th>4682</th>\n",
              "      <th>4683</th>\n",
              "      <th>4684</th>\n",
              "      <th>4685</th>\n",
              "      <th>4686</th>\n",
              "      <th>4687</th>\n",
              "      <th>4688</th>\n",
              "      <th>4689</th>\n",
              "      <th>4690</th>\n",
              "      <th>4691</th>\n",
              "      <th>4692</th>\n",
              "      <th>4693</th>\n",
              "      <th>4694</th>\n",
              "      <th>4695</th>\n",
              "      <th>4696</th>\n",
              "      <th>4697</th>\n",
              "      <th>4698</th>\n",
              "      <th>4699</th>\n",
              "      <th>4700</th>\n",
              "      <th>4701</th>\n",
              "      <th>4702</th>\n",
              "      <th>4703</th>\n",
              "      <th>4704</th>\n",
              "      <th>4705</th>\n",
              "      <th>4706</th>\n",
              "      <th>4707</th>\n",
              "      <th>4708</th>\n",
              "      <th>4709</th>\n",
              "      <th>4710</th>\n",
              "      <th>4711</th>\n",
              "      <th>4712</th>\n",
              "      <th>4713</th>\n",
              "      <th>4714</th>\n",
              "      <th>4715</th>\n",
              "      <th>4716</th>\n",
              "    </tr>\n",
              "  </thead>\n",
              "  <tbody>\n",
              "    <tr>\n",
              "      <th>0</th>\n",
              "      <td>a</td>\n",
              "      <td>1</td>\n",
              "      <td>0</td>\n",
              "      <td>0</td>\n",
              "      <td>0</td>\n",
              "      <td>0</td>\n",
              "      <td>0</td>\n",
              "      <td>0</td>\n",
              "      <td>0</td>\n",
              "      <td>0</td>\n",
              "      <td>0</td>\n",
              "      <td>0</td>\n",
              "      <td>0</td>\n",
              "      <td>0</td>\n",
              "      <td>0</td>\n",
              "      <td>0</td>\n",
              "      <td>0</td>\n",
              "      <td>0</td>\n",
              "      <td>0</td>\n",
              "      <td>0</td>\n",
              "      <td>0</td>\n",
              "      <td>0</td>\n",
              "      <td>0</td>\n",
              "      <td>0</td>\n",
              "      <td>0</td>\n",
              "      <td>0</td>\n",
              "      <td>0</td>\n",
              "      <td>0</td>\n",
              "      <td>0</td>\n",
              "      <td>0</td>\n",
              "      <td>0</td>\n",
              "      <td>0</td>\n",
              "      <td>0</td>\n",
              "      <td>0</td>\n",
              "      <td>0</td>\n",
              "      <td>0</td>\n",
              "      <td>0</td>\n",
              "      <td>0</td>\n",
              "      <td>0</td>\n",
              "      <td>0</td>\n",
              "      <td>...</td>\n",
              "      <td>0</td>\n",
              "      <td>0</td>\n",
              "      <td>0</td>\n",
              "      <td>0</td>\n",
              "      <td>0</td>\n",
              "      <td>0</td>\n",
              "      <td>0</td>\n",
              "      <td>0</td>\n",
              "      <td>0</td>\n",
              "      <td>0</td>\n",
              "      <td>0</td>\n",
              "      <td>0</td>\n",
              "      <td>0</td>\n",
              "      <td>0</td>\n",
              "      <td>0</td>\n",
              "      <td>0</td>\n",
              "      <td>0</td>\n",
              "      <td>0</td>\n",
              "      <td>0</td>\n",
              "      <td>0</td>\n",
              "      <td>0</td>\n",
              "      <td>0</td>\n",
              "      <td>0</td>\n",
              "      <td>0</td>\n",
              "      <td>0</td>\n",
              "      <td>0</td>\n",
              "      <td>0</td>\n",
              "      <td>0</td>\n",
              "      <td>0</td>\n",
              "      <td>0</td>\n",
              "      <td>0</td>\n",
              "      <td>0</td>\n",
              "      <td>0</td>\n",
              "      <td>0</td>\n",
              "      <td>0</td>\n",
              "      <td>0</td>\n",
              "      <td>0</td>\n",
              "      <td>0</td>\n",
              "      <td>0</td>\n",
              "      <td>0</td>\n",
              "    </tr>\n",
              "    <tr>\n",
              "      <th>1</th>\n",
              "      <td>a'</td>\n",
              "      <td>1</td>\n",
              "      <td>0</td>\n",
              "      <td>0</td>\n",
              "      <td>0</td>\n",
              "      <td>0</td>\n",
              "      <td>0</td>\n",
              "      <td>0</td>\n",
              "      <td>0</td>\n",
              "      <td>0</td>\n",
              "      <td>0</td>\n",
              "      <td>0</td>\n",
              "      <td>0</td>\n",
              "      <td>0</td>\n",
              "      <td>0</td>\n",
              "      <td>0</td>\n",
              "      <td>0</td>\n",
              "      <td>0</td>\n",
              "      <td>0</td>\n",
              "      <td>0</td>\n",
              "      <td>0</td>\n",
              "      <td>0</td>\n",
              "      <td>0</td>\n",
              "      <td>0</td>\n",
              "      <td>0</td>\n",
              "      <td>0</td>\n",
              "      <td>0</td>\n",
              "      <td>0</td>\n",
              "      <td>0</td>\n",
              "      <td>0</td>\n",
              "      <td>0</td>\n",
              "      <td>0</td>\n",
              "      <td>0</td>\n",
              "      <td>0</td>\n",
              "      <td>0</td>\n",
              "      <td>0</td>\n",
              "      <td>0</td>\n",
              "      <td>0</td>\n",
              "      <td>0</td>\n",
              "      <td>0</td>\n",
              "      <td>...</td>\n",
              "      <td>0</td>\n",
              "      <td>0</td>\n",
              "      <td>0</td>\n",
              "      <td>0</td>\n",
              "      <td>0</td>\n",
              "      <td>0</td>\n",
              "      <td>0</td>\n",
              "      <td>0</td>\n",
              "      <td>0</td>\n",
              "      <td>0</td>\n",
              "      <td>0</td>\n",
              "      <td>0</td>\n",
              "      <td>0</td>\n",
              "      <td>0</td>\n",
              "      <td>0</td>\n",
              "      <td>0</td>\n",
              "      <td>0</td>\n",
              "      <td>0</td>\n",
              "      <td>0</td>\n",
              "      <td>0</td>\n",
              "      <td>0</td>\n",
              "      <td>0</td>\n",
              "      <td>0</td>\n",
              "      <td>0</td>\n",
              "      <td>0</td>\n",
              "      <td>0</td>\n",
              "      <td>0</td>\n",
              "      <td>0</td>\n",
              "      <td>0</td>\n",
              "      <td>0</td>\n",
              "      <td>0</td>\n",
              "      <td>0</td>\n",
              "      <td>0</td>\n",
              "      <td>0</td>\n",
              "      <td>0</td>\n",
              "      <td>0</td>\n",
              "      <td>0</td>\n",
              "      <td>0</td>\n",
              "      <td>0</td>\n",
              "      <td>0</td>\n",
              "    </tr>\n",
              "    <tr>\n",
              "      <th>2</th>\n",
              "      <td>a' --</td>\n",
              "      <td>1</td>\n",
              "      <td>0</td>\n",
              "      <td>0</td>\n",
              "      <td>0</td>\n",
              "      <td>0</td>\n",
              "      <td>0</td>\n",
              "      <td>0</td>\n",
              "      <td>0</td>\n",
              "      <td>0</td>\n",
              "      <td>0</td>\n",
              "      <td>0</td>\n",
              "      <td>0</td>\n",
              "      <td>0</td>\n",
              "      <td>0</td>\n",
              "      <td>0</td>\n",
              "      <td>0</td>\n",
              "      <td>0</td>\n",
              "      <td>0</td>\n",
              "      <td>0</td>\n",
              "      <td>0</td>\n",
              "      <td>0</td>\n",
              "      <td>0</td>\n",
              "      <td>0</td>\n",
              "      <td>0</td>\n",
              "      <td>0</td>\n",
              "      <td>0</td>\n",
              "      <td>0</td>\n",
              "      <td>0</td>\n",
              "      <td>0</td>\n",
              "      <td>0</td>\n",
              "      <td>0</td>\n",
              "      <td>0</td>\n",
              "      <td>0</td>\n",
              "      <td>0</td>\n",
              "      <td>0</td>\n",
              "      <td>0</td>\n",
              "      <td>0</td>\n",
              "      <td>0</td>\n",
              "      <td>0</td>\n",
              "      <td>...</td>\n",
              "      <td>0</td>\n",
              "      <td>0</td>\n",
              "      <td>0</td>\n",
              "      <td>0</td>\n",
              "      <td>0</td>\n",
              "      <td>0</td>\n",
              "      <td>0</td>\n",
              "      <td>0</td>\n",
              "      <td>0</td>\n",
              "      <td>0</td>\n",
              "      <td>0</td>\n",
              "      <td>0</td>\n",
              "      <td>0</td>\n",
              "      <td>0</td>\n",
              "      <td>0</td>\n",
              "      <td>0</td>\n",
              "      <td>0</td>\n",
              "      <td>0</td>\n",
              "      <td>0</td>\n",
              "      <td>0</td>\n",
              "      <td>0</td>\n",
              "      <td>0</td>\n",
              "      <td>0</td>\n",
              "      <td>0</td>\n",
              "      <td>0</td>\n",
              "      <td>0</td>\n",
              "      <td>0</td>\n",
              "      <td>0</td>\n",
              "      <td>0</td>\n",
              "      <td>0</td>\n",
              "      <td>0</td>\n",
              "      <td>0</td>\n",
              "      <td>0</td>\n",
              "      <td>0</td>\n",
              "      <td>0</td>\n",
              "      <td>0</td>\n",
              "      <td>0</td>\n",
              "      <td>0</td>\n",
              "      <td>0</td>\n",
              "      <td>0</td>\n",
              "    </tr>\n",
              "    <tr>\n",
              "      <th>3</th>\n",
              "      <td>a' or 1 = 1; --</td>\n",
              "      <td>1</td>\n",
              "      <td>0</td>\n",
              "      <td>0</td>\n",
              "      <td>0</td>\n",
              "      <td>0</td>\n",
              "      <td>0</td>\n",
              "      <td>0</td>\n",
              "      <td>0</td>\n",
              "      <td>0</td>\n",
              "      <td>0</td>\n",
              "      <td>0</td>\n",
              "      <td>0</td>\n",
              "      <td>0</td>\n",
              "      <td>0</td>\n",
              "      <td>0</td>\n",
              "      <td>0</td>\n",
              "      <td>0</td>\n",
              "      <td>0</td>\n",
              "      <td>0</td>\n",
              "      <td>0</td>\n",
              "      <td>0</td>\n",
              "      <td>0</td>\n",
              "      <td>0</td>\n",
              "      <td>0</td>\n",
              "      <td>0</td>\n",
              "      <td>0</td>\n",
              "      <td>0</td>\n",
              "      <td>0</td>\n",
              "      <td>0</td>\n",
              "      <td>0</td>\n",
              "      <td>0</td>\n",
              "      <td>0</td>\n",
              "      <td>0</td>\n",
              "      <td>0</td>\n",
              "      <td>0</td>\n",
              "      <td>0</td>\n",
              "      <td>0</td>\n",
              "      <td>0</td>\n",
              "      <td>0</td>\n",
              "      <td>...</td>\n",
              "      <td>0</td>\n",
              "      <td>0</td>\n",
              "      <td>0</td>\n",
              "      <td>0</td>\n",
              "      <td>0</td>\n",
              "      <td>0</td>\n",
              "      <td>0</td>\n",
              "      <td>0</td>\n",
              "      <td>0</td>\n",
              "      <td>0</td>\n",
              "      <td>0</td>\n",
              "      <td>0</td>\n",
              "      <td>0</td>\n",
              "      <td>0</td>\n",
              "      <td>0</td>\n",
              "      <td>0</td>\n",
              "      <td>0</td>\n",
              "      <td>0</td>\n",
              "      <td>0</td>\n",
              "      <td>0</td>\n",
              "      <td>0</td>\n",
              "      <td>0</td>\n",
              "      <td>0</td>\n",
              "      <td>0</td>\n",
              "      <td>0</td>\n",
              "      <td>0</td>\n",
              "      <td>0</td>\n",
              "      <td>0</td>\n",
              "      <td>0</td>\n",
              "      <td>0</td>\n",
              "      <td>0</td>\n",
              "      <td>0</td>\n",
              "      <td>0</td>\n",
              "      <td>0</td>\n",
              "      <td>0</td>\n",
              "      <td>0</td>\n",
              "      <td>0</td>\n",
              "      <td>0</td>\n",
              "      <td>0</td>\n",
              "      <td>0</td>\n",
              "    </tr>\n",
              "    <tr>\n",
              "      <th>4</th>\n",
              "      <td>@</td>\n",
              "      <td>1</td>\n",
              "      <td>0</td>\n",
              "      <td>0</td>\n",
              "      <td>0</td>\n",
              "      <td>0</td>\n",
              "      <td>0</td>\n",
              "      <td>0</td>\n",
              "      <td>0</td>\n",
              "      <td>0</td>\n",
              "      <td>0</td>\n",
              "      <td>0</td>\n",
              "      <td>0</td>\n",
              "      <td>0</td>\n",
              "      <td>0</td>\n",
              "      <td>0</td>\n",
              "      <td>0</td>\n",
              "      <td>0</td>\n",
              "      <td>0</td>\n",
              "      <td>0</td>\n",
              "      <td>0</td>\n",
              "      <td>0</td>\n",
              "      <td>0</td>\n",
              "      <td>0</td>\n",
              "      <td>0</td>\n",
              "      <td>0</td>\n",
              "      <td>0</td>\n",
              "      <td>0</td>\n",
              "      <td>0</td>\n",
              "      <td>0</td>\n",
              "      <td>0</td>\n",
              "      <td>0</td>\n",
              "      <td>0</td>\n",
              "      <td>0</td>\n",
              "      <td>0</td>\n",
              "      <td>0</td>\n",
              "      <td>0</td>\n",
              "      <td>0</td>\n",
              "      <td>0</td>\n",
              "      <td>0</td>\n",
              "      <td>...</td>\n",
              "      <td>0</td>\n",
              "      <td>0</td>\n",
              "      <td>0</td>\n",
              "      <td>0</td>\n",
              "      <td>0</td>\n",
              "      <td>0</td>\n",
              "      <td>0</td>\n",
              "      <td>0</td>\n",
              "      <td>0</td>\n",
              "      <td>0</td>\n",
              "      <td>0</td>\n",
              "      <td>0</td>\n",
              "      <td>0</td>\n",
              "      <td>0</td>\n",
              "      <td>0</td>\n",
              "      <td>0</td>\n",
              "      <td>0</td>\n",
              "      <td>0</td>\n",
              "      <td>0</td>\n",
              "      <td>0</td>\n",
              "      <td>0</td>\n",
              "      <td>0</td>\n",
              "      <td>0</td>\n",
              "      <td>0</td>\n",
              "      <td>0</td>\n",
              "      <td>0</td>\n",
              "      <td>0</td>\n",
              "      <td>0</td>\n",
              "      <td>0</td>\n",
              "      <td>0</td>\n",
              "      <td>0</td>\n",
              "      <td>0</td>\n",
              "      <td>0</td>\n",
              "      <td>0</td>\n",
              "      <td>0</td>\n",
              "      <td>0</td>\n",
              "      <td>0</td>\n",
              "      <td>0</td>\n",
              "      <td>0</td>\n",
              "      <td>0</td>\n",
              "    </tr>\n",
              "    <tr>\n",
              "      <th>...</th>\n",
              "      <td>...</td>\n",
              "      <td>...</td>\n",
              "      <td>...</td>\n",
              "      <td>...</td>\n",
              "      <td>...</td>\n",
              "      <td>...</td>\n",
              "      <td>...</td>\n",
              "      <td>...</td>\n",
              "      <td>...</td>\n",
              "      <td>...</td>\n",
              "      <td>...</td>\n",
              "      <td>...</td>\n",
              "      <td>...</td>\n",
              "      <td>...</td>\n",
              "      <td>...</td>\n",
              "      <td>...</td>\n",
              "      <td>...</td>\n",
              "      <td>...</td>\n",
              "      <td>...</td>\n",
              "      <td>...</td>\n",
              "      <td>...</td>\n",
              "      <td>...</td>\n",
              "      <td>...</td>\n",
              "      <td>...</td>\n",
              "      <td>...</td>\n",
              "      <td>...</td>\n",
              "      <td>...</td>\n",
              "      <td>...</td>\n",
              "      <td>...</td>\n",
              "      <td>...</td>\n",
              "      <td>...</td>\n",
              "      <td>...</td>\n",
              "      <td>...</td>\n",
              "      <td>...</td>\n",
              "      <td>...</td>\n",
              "      <td>...</td>\n",
              "      <td>...</td>\n",
              "      <td>...</td>\n",
              "      <td>...</td>\n",
              "      <td>...</td>\n",
              "      <td>...</td>\n",
              "      <td>...</td>\n",
              "      <td>...</td>\n",
              "      <td>...</td>\n",
              "      <td>...</td>\n",
              "      <td>...</td>\n",
              "      <td>...</td>\n",
              "      <td>...</td>\n",
              "      <td>...</td>\n",
              "      <td>...</td>\n",
              "      <td>...</td>\n",
              "      <td>...</td>\n",
              "      <td>...</td>\n",
              "      <td>...</td>\n",
              "      <td>...</td>\n",
              "      <td>...</td>\n",
              "      <td>...</td>\n",
              "      <td>...</td>\n",
              "      <td>...</td>\n",
              "      <td>...</td>\n",
              "      <td>...</td>\n",
              "      <td>...</td>\n",
              "      <td>...</td>\n",
              "      <td>...</td>\n",
              "      <td>...</td>\n",
              "      <td>...</td>\n",
              "      <td>...</td>\n",
              "      <td>...</td>\n",
              "      <td>...</td>\n",
              "      <td>...</td>\n",
              "      <td>...</td>\n",
              "      <td>...</td>\n",
              "      <td>...</td>\n",
              "      <td>...</td>\n",
              "      <td>...</td>\n",
              "      <td>...</td>\n",
              "      <td>...</td>\n",
              "      <td>...</td>\n",
              "      <td>...</td>\n",
              "      <td>...</td>\n",
              "      <td>...</td>\n",
              "    </tr>\n",
              "    <tr>\n",
              "      <th>4195</th>\n",
              "      <td>org/?option = com_k2  &lt;a href = \"http://corfopym</td>\n",
              "      <td>0</td>\n",
              "      <td>0</td>\n",
              "      <td>0</td>\n",
              "      <td>0</td>\n",
              "      <td>0</td>\n",
              "      <td>0</td>\n",
              "      <td>0</td>\n",
              "      <td>0</td>\n",
              "      <td>0</td>\n",
              "      <td>0</td>\n",
              "      <td>0</td>\n",
              "      <td>0</td>\n",
              "      <td>0</td>\n",
              "      <td>0</td>\n",
              "      <td>0</td>\n",
              "      <td>0</td>\n",
              "      <td>0</td>\n",
              "      <td>0</td>\n",
              "      <td>0</td>\n",
              "      <td>0</td>\n",
              "      <td>0</td>\n",
              "      <td>0</td>\n",
              "      <td>0</td>\n",
              "      <td>0</td>\n",
              "      <td>0</td>\n",
              "      <td>0</td>\n",
              "      <td>0</td>\n",
              "      <td>0</td>\n",
              "      <td>0</td>\n",
              "      <td>0</td>\n",
              "      <td>0</td>\n",
              "      <td>0</td>\n",
              "      <td>0</td>\n",
              "      <td>0</td>\n",
              "      <td>0</td>\n",
              "      <td>0</td>\n",
              "      <td>0</td>\n",
              "      <td>0</td>\n",
              "      <td>0</td>\n",
              "      <td>...</td>\n",
              "      <td>0</td>\n",
              "      <td>0</td>\n",
              "      <td>0</td>\n",
              "      <td>0</td>\n",
              "      <td>0</td>\n",
              "      <td>0</td>\n",
              "      <td>0</td>\n",
              "      <td>0</td>\n",
              "      <td>0</td>\n",
              "      <td>0</td>\n",
              "      <td>0</td>\n",
              "      <td>0</td>\n",
              "      <td>0</td>\n",
              "      <td>0</td>\n",
              "      <td>0</td>\n",
              "      <td>0</td>\n",
              "      <td>0</td>\n",
              "      <td>0</td>\n",
              "      <td>0</td>\n",
              "      <td>0</td>\n",
              "      <td>0</td>\n",
              "      <td>0</td>\n",
              "      <td>0</td>\n",
              "      <td>0</td>\n",
              "      <td>0</td>\n",
              "      <td>0</td>\n",
              "      <td>0</td>\n",
              "      <td>0</td>\n",
              "      <td>0</td>\n",
              "      <td>0</td>\n",
              "      <td>0</td>\n",
              "      <td>0</td>\n",
              "      <td>0</td>\n",
              "      <td>0</td>\n",
              "      <td>0</td>\n",
              "      <td>0</td>\n",
              "      <td>0</td>\n",
              "      <td>0</td>\n",
              "      <td>0</td>\n",
              "      <td>0</td>\n",
              "    </tr>\n",
              "    <tr>\n",
              "      <th>4196</th>\n",
              "      <td>com/?option = com_k2  &lt;act&gt;  &lt;![CDATA[procMemb...</td>\n",
              "      <td>0</td>\n",
              "      <td>0</td>\n",
              "      <td>0</td>\n",
              "      <td>0</td>\n",
              "      <td>0</td>\n",
              "      <td>0</td>\n",
              "      <td>0</td>\n",
              "      <td>0</td>\n",
              "      <td>0</td>\n",
              "      <td>0</td>\n",
              "      <td>0</td>\n",
              "      <td>0</td>\n",
              "      <td>0</td>\n",
              "      <td>0</td>\n",
              "      <td>0</td>\n",
              "      <td>0</td>\n",
              "      <td>0</td>\n",
              "      <td>0</td>\n",
              "      <td>0</td>\n",
              "      <td>0</td>\n",
              "      <td>0</td>\n",
              "      <td>0</td>\n",
              "      <td>0</td>\n",
              "      <td>0</td>\n",
              "      <td>0</td>\n",
              "      <td>0</td>\n",
              "      <td>0</td>\n",
              "      <td>0</td>\n",
              "      <td>0</td>\n",
              "      <td>0</td>\n",
              "      <td>0</td>\n",
              "      <td>0</td>\n",
              "      <td>0</td>\n",
              "      <td>0</td>\n",
              "      <td>0</td>\n",
              "      <td>0</td>\n",
              "      <td>0</td>\n",
              "      <td>0</td>\n",
              "      <td>0</td>\n",
              "      <td>...</td>\n",
              "      <td>0</td>\n",
              "      <td>0</td>\n",
              "      <td>0</td>\n",
              "      <td>0</td>\n",
              "      <td>0</td>\n",
              "      <td>0</td>\n",
              "      <td>0</td>\n",
              "      <td>0</td>\n",
              "      <td>0</td>\n",
              "      <td>0</td>\n",
              "      <td>0</td>\n",
              "      <td>0</td>\n",
              "      <td>0</td>\n",
              "      <td>0</td>\n",
              "      <td>0</td>\n",
              "      <td>0</td>\n",
              "      <td>0</td>\n",
              "      <td>0</td>\n",
              "      <td>0</td>\n",
              "      <td>0</td>\n",
              "      <td>0</td>\n",
              "      <td>0</td>\n",
              "      <td>0</td>\n",
              "      <td>0</td>\n",
              "      <td>0</td>\n",
              "      <td>0</td>\n",
              "      <td>0</td>\n",
              "      <td>0</td>\n",
              "      <td>0</td>\n",
              "      <td>0</td>\n",
              "      <td>0</td>\n",
              "      <td>0</td>\n",
              "      <td>0</td>\n",
              "      <td>0</td>\n",
              "      <td>0</td>\n",
              "      <td>0</td>\n",
              "      <td>0</td>\n",
              "      <td>0</td>\n",
              "      <td>0</td>\n",
              "      <td>0</td>\n",
              "    </tr>\n",
              "    <tr>\n",
              "      <th>4197</th>\n",
              "      <td>picsearch</td>\n",
              "      <td>0</td>\n",
              "      <td>0</td>\n",
              "      <td>0</td>\n",
              "      <td>0</td>\n",
              "      <td>0</td>\n",
              "      <td>0</td>\n",
              "      <td>0</td>\n",
              "      <td>0</td>\n",
              "      <td>0</td>\n",
              "      <td>0</td>\n",
              "      <td>0</td>\n",
              "      <td>0</td>\n",
              "      <td>0</td>\n",
              "      <td>0</td>\n",
              "      <td>0</td>\n",
              "      <td>0</td>\n",
              "      <td>0</td>\n",
              "      <td>0</td>\n",
              "      <td>0</td>\n",
              "      <td>0</td>\n",
              "      <td>0</td>\n",
              "      <td>0</td>\n",
              "      <td>0</td>\n",
              "      <td>0</td>\n",
              "      <td>0</td>\n",
              "      <td>0</td>\n",
              "      <td>0</td>\n",
              "      <td>0</td>\n",
              "      <td>0</td>\n",
              "      <td>0</td>\n",
              "      <td>0</td>\n",
              "      <td>0</td>\n",
              "      <td>0</td>\n",
              "      <td>0</td>\n",
              "      <td>0</td>\n",
              "      <td>0</td>\n",
              "      <td>0</td>\n",
              "      <td>0</td>\n",
              "      <td>0</td>\n",
              "      <td>...</td>\n",
              "      <td>0</td>\n",
              "      <td>0</td>\n",
              "      <td>0</td>\n",
              "      <td>0</td>\n",
              "      <td>0</td>\n",
              "      <td>0</td>\n",
              "      <td>0</td>\n",
              "      <td>0</td>\n",
              "      <td>0</td>\n",
              "      <td>0</td>\n",
              "      <td>0</td>\n",
              "      <td>0</td>\n",
              "      <td>0</td>\n",
              "      <td>0</td>\n",
              "      <td>0</td>\n",
              "      <td>0</td>\n",
              "      <td>0</td>\n",
              "      <td>0</td>\n",
              "      <td>0</td>\n",
              "      <td>0</td>\n",
              "      <td>0</td>\n",
              "      <td>0</td>\n",
              "      <td>0</td>\n",
              "      <td>0</td>\n",
              "      <td>0</td>\n",
              "      <td>0</td>\n",
              "      <td>0</td>\n",
              "      <td>0</td>\n",
              "      <td>0</td>\n",
              "      <td>0</td>\n",
              "      <td>0</td>\n",
              "      <td>0</td>\n",
              "      <td>0</td>\n",
              "      <td>0</td>\n",
              "      <td>0</td>\n",
              "      <td>0</td>\n",
              "      <td>0</td>\n",
              "      <td>0</td>\n",
              "      <td>0</td>\n",
              "      <td>0</td>\n",
              "    </tr>\n",
              "    <tr>\n",
              "      <th>4198</th>\n",
              "      <td>com/is?-WZx-uhyLezKNiYLvAbKL3W4oh5F749nr2KUmFF...</td>\n",
              "      <td>0</td>\n",
              "      <td>0</td>\n",
              "      <td>0</td>\n",
              "      <td>0</td>\n",
              "      <td>0</td>\n",
              "      <td>0</td>\n",
              "      <td>0</td>\n",
              "      <td>0</td>\n",
              "      <td>0</td>\n",
              "      <td>0</td>\n",
              "      <td>0</td>\n",
              "      <td>0</td>\n",
              "      <td>0</td>\n",
              "      <td>0</td>\n",
              "      <td>0</td>\n",
              "      <td>0</td>\n",
              "      <td>0</td>\n",
              "      <td>0</td>\n",
              "      <td>0</td>\n",
              "      <td>0</td>\n",
              "      <td>0</td>\n",
              "      <td>0</td>\n",
              "      <td>0</td>\n",
              "      <td>0</td>\n",
              "      <td>0</td>\n",
              "      <td>0</td>\n",
              "      <td>0</td>\n",
              "      <td>0</td>\n",
              "      <td>0</td>\n",
              "      <td>0</td>\n",
              "      <td>0</td>\n",
              "      <td>0</td>\n",
              "      <td>0</td>\n",
              "      <td>0</td>\n",
              "      <td>0</td>\n",
              "      <td>0</td>\n",
              "      <td>0</td>\n",
              "      <td>0</td>\n",
              "      <td>0</td>\n",
              "      <td>...</td>\n",
              "      <td>0</td>\n",
              "      <td>0</td>\n",
              "      <td>0</td>\n",
              "      <td>0</td>\n",
              "      <td>0</td>\n",
              "      <td>0</td>\n",
              "      <td>0</td>\n",
              "      <td>0</td>\n",
              "      <td>0</td>\n",
              "      <td>0</td>\n",
              "      <td>0</td>\n",
              "      <td>0</td>\n",
              "      <td>0</td>\n",
              "      <td>0</td>\n",
              "      <td>0</td>\n",
              "      <td>0</td>\n",
              "      <td>0</td>\n",
              "      <td>0</td>\n",
              "      <td>0</td>\n",
              "      <td>0</td>\n",
              "      <td>0</td>\n",
              "      <td>0</td>\n",
              "      <td>0</td>\n",
              "      <td>0</td>\n",
              "      <td>0</td>\n",
              "      <td>0</td>\n",
              "      <td>0</td>\n",
              "      <td>0</td>\n",
              "      <td>0</td>\n",
              "      <td>0</td>\n",
              "      <td>0</td>\n",
              "      <td>0</td>\n",
              "      <td>0</td>\n",
              "      <td>0</td>\n",
              "      <td>0</td>\n",
              "      <td>0</td>\n",
              "      <td>0</td>\n",
              "      <td>0</td>\n",
              "      <td>0</td>\n",
              "      <td>0</td>\n",
              "    </tr>\n",
              "    <tr>\n",
              "      <th>4199</th>\n",
              "      <td>de]]&gt;  &lt;/email_address&gt;   &lt;find_account_answer...</td>\n",
              "      <td>0</td>\n",
              "      <td>0</td>\n",
              "      <td>0</td>\n",
              "      <td>1</td>\n",
              "      <td>0</td>\n",
              "      <td>0</td>\n",
              "      <td>0</td>\n",
              "      <td>0</td>\n",
              "      <td>0</td>\n",
              "      <td>1</td>\n",
              "      <td>0</td>\n",
              "      <td>0</td>\n",
              "      <td>0</td>\n",
              "      <td>0</td>\n",
              "      <td>0</td>\n",
              "      <td>0</td>\n",
              "      <td>0</td>\n",
              "      <td>0</td>\n",
              "      <td>0</td>\n",
              "      <td>0</td>\n",
              "      <td>0</td>\n",
              "      <td>0</td>\n",
              "      <td>0</td>\n",
              "      <td>0</td>\n",
              "      <td>0</td>\n",
              "      <td>0</td>\n",
              "      <td>0</td>\n",
              "      <td>0</td>\n",
              "      <td>0</td>\n",
              "      <td>0</td>\n",
              "      <td>0</td>\n",
              "      <td>0</td>\n",
              "      <td>0</td>\n",
              "      <td>0</td>\n",
              "      <td>0</td>\n",
              "      <td>0</td>\n",
              "      <td>0</td>\n",
              "      <td>0</td>\n",
              "      <td>0</td>\n",
              "      <td>...</td>\n",
              "      <td>0</td>\n",
              "      <td>0</td>\n",
              "      <td>0</td>\n",
              "      <td>0</td>\n",
              "      <td>0</td>\n",
              "      <td>0</td>\n",
              "      <td>0</td>\n",
              "      <td>0</td>\n",
              "      <td>0</td>\n",
              "      <td>0</td>\n",
              "      <td>0</td>\n",
              "      <td>0</td>\n",
              "      <td>0</td>\n",
              "      <td>0</td>\n",
              "      <td>0</td>\n",
              "      <td>0</td>\n",
              "      <td>0</td>\n",
              "      <td>0</td>\n",
              "      <td>0</td>\n",
              "      <td>0</td>\n",
              "      <td>0</td>\n",
              "      <td>0</td>\n",
              "      <td>0</td>\n",
              "      <td>0</td>\n",
              "      <td>0</td>\n",
              "      <td>0</td>\n",
              "      <td>0</td>\n",
              "      <td>0</td>\n",
              "      <td>0</td>\n",
              "      <td>0</td>\n",
              "      <td>0</td>\n",
              "      <td>0</td>\n",
              "      <td>0</td>\n",
              "      <td>0</td>\n",
              "      <td>0</td>\n",
              "      <td>0</td>\n",
              "      <td>0</td>\n",
              "      <td>0</td>\n",
              "      <td>0</td>\n",
              "      <td>0</td>\n",
              "    </tr>\n",
              "  </tbody>\n",
              "</table>\n",
              "<p>4200 rows × 4719 columns</p>\n",
              "</div>"
            ],
            "text/plain": [
              "                                               Sentence  Label  ...  4715  4716\n",
              "0                                                     a      1  ...     0     0\n",
              "1                                                   a'       1  ...     0     0\n",
              "2                                                 a' --      1  ...     0     0\n",
              "3                                       a' or 1 = 1; --      1  ...     0     0\n",
              "4                                                     @      1  ...     0     0\n",
              "...                                                 ...    ...  ...   ...   ...\n",
              "4195   org/?option = com_k2  <a href = \"http://corfopym      0  ...     0     0\n",
              "4196  com/?option = com_k2  <act>  <![CDATA[procMemb...      0  ...     0     0\n",
              "4197                                          picsearch      0  ...     0     0\n",
              "4198  com/is?-WZx-uhyLezKNiYLvAbKL3W4oh5F749nr2KUmFF...      0  ...     0     0\n",
              "4199  de]]>  </email_address>   <find_account_answer...      0  ...     0     0\n",
              "\n",
              "[4200 rows x 4719 columns]"
            ]
          },
          "metadata": {},
          "execution_count": 16
        }
      ]
    },
    {
      "cell_type": "code",
      "metadata": {
        "id": "eiBxK4TP0Dak"
      },
      "source": [
        "X=df[df.columns[2:]]"
      ],
      "execution_count": null,
      "outputs": []
    },
    {
      "cell_type": "code",
      "metadata": {
        "id": "LsAMPnNS0DVt"
      },
      "source": [
        "y=df['Label']"
      ],
      "execution_count": null,
      "outputs": []
    },
    {
      "cell_type": "code",
      "metadata": {
        "id": "U02u9Lnz0DTO",
        "colab": {
          "base_uri": "https://localhost:8080/"
        },
        "outputId": "6007c750-c224-4754-b1e9-e92060c10372"
      },
      "source": [
        "y"
      ],
      "execution_count": null,
      "outputs": [
        {
          "output_type": "execute_result",
          "data": {
            "text/plain": [
              "0       1\n",
              "1       1\n",
              "2       1\n",
              "3       1\n",
              "4       1\n",
              "       ..\n",
              "4195    0\n",
              "4196    0\n",
              "4197    0\n",
              "4198    0\n",
              "4199    0\n",
              "Name: Label, Length: 4200, dtype: int64"
            ]
          },
          "metadata": {},
          "execution_count": 19
        }
      ]
    },
    {
      "cell_type": "code",
      "metadata": {
        "id": "agnfR3DX1WBm",
        "colab": {
          "base_uri": "https://localhost:8080/"
        },
        "outputId": "ef302bb5-1ddf-479b-c864-b20f0b73fb36"
      },
      "source": [
        "y.value_counts()"
      ],
      "execution_count": null,
      "outputs": [
        {
          "output_type": "execute_result",
          "data": {
            "text/plain": [
              "0    3072\n",
              "1    1128\n",
              "Name: Label, dtype: int64"
            ]
          },
          "metadata": {},
          "execution_count": 20
        }
      ]
    },
    {
      "cell_type": "markdown",
      "metadata": {
        "id": "QbnJQaBd1j8A"
      },
      "source": [
        "**Balancear**\n",
        "\n",
        "**UNDER SAMPLER**\n",
        "\n"
      ]
    },
    {
      "cell_type": "code",
      "metadata": {
        "id": "yDWTmy170HCg",
        "colab": {
          "base_uri": "https://localhost:8080/"
        },
        "outputId": "59132e0c-fa4d-41f2-c5f0-baef60d467bb"
      },
      "source": [
        "rus = RandomUnderSampler(random_state=0)\n",
        "X_rus, y_rus = rus.fit_resample(X,y)\n",
        "pd.Series(y_rus).value_counts()"
      ],
      "execution_count": null,
      "outputs": [
        {
          "output_type": "stream",
          "name": "stderr",
          "text": [
            "/usr/local/lib/python3.7/dist-packages/sklearn/utils/deprecation.py:87: FutureWarning: Function safe_indexing is deprecated; safe_indexing is deprecated in version 0.22 and will be removed in version 0.24.\n",
            "  warnings.warn(msg, category=FutureWarning)\n"
          ]
        },
        {
          "output_type": "execute_result",
          "data": {
            "text/plain": [
              "1    1128\n",
              "0    1128\n",
              "dtype: int64"
            ]
          },
          "metadata": {},
          "execution_count": 25
        }
      ]
    },
    {
      "cell_type": "markdown",
      "metadata": {
        "id": "wcNJb6vb2CR2"
      },
      "source": [
        "**OVER SAMPLER**"
      ]
    },
    {
      "cell_type": "code",
      "metadata": {
        "id": "5BuqfkEe1-Nn",
        "colab": {
          "base_uri": "https://localhost:8080/"
        },
        "outputId": "d833ecaa-4841-45d6-eb7a-f7d874f1a3ad"
      },
      "source": [
        "ros = RandomOverSampler(random_state=0)\n",
        "X_ros, y_ros = ros.fit_resample(X,y)\n",
        "pd.Series(y_ros).value_counts()"
      ],
      "execution_count": null,
      "outputs": [
        {
          "output_type": "stream",
          "name": "stderr",
          "text": [
            "/usr/local/lib/python3.7/dist-packages/sklearn/utils/deprecation.py:87: FutureWarning: Function safe_indexing is deprecated; safe_indexing is deprecated in version 0.22 and will be removed in version 0.24.\n",
            "  warnings.warn(msg, category=FutureWarning)\n"
          ]
        },
        {
          "output_type": "execute_result",
          "data": {
            "text/plain": [
              "1    3072\n",
              "0    3072\n",
              "dtype: int64"
            ]
          },
          "metadata": {},
          "execution_count": 26
        }
      ]
    },
    {
      "cell_type": "code",
      "metadata": {
        "id": "7FOlH7Nk2mj2",
        "colab": {
          "base_uri": "https://localhost:8080/"
        },
        "outputId": "848504b9-343b-4a84-df75-fdcff01c97d6"
      },
      "source": [
        "sm = SMOTE(random_state=0)\n",
        "X_sm, y_sm = sm.fit_resample(X,y)\n",
        "pd.Series(y_sm).value_counts()"
      ],
      "execution_count": null,
      "outputs": [
        {
          "output_type": "stream",
          "name": "stderr",
          "text": [
            "/usr/local/lib/python3.7/dist-packages/sklearn/utils/deprecation.py:87: FutureWarning: Function safe_indexing is deprecated; safe_indexing is deprecated in version 0.22 and will be removed in version 0.24.\n",
            "  warnings.warn(msg, category=FutureWarning)\n"
          ]
        },
        {
          "output_type": "execute_result",
          "data": {
            "text/plain": [
              "1    3072\n",
              "0    3072\n",
              "dtype: int64"
            ]
          },
          "metadata": {},
          "execution_count": 27
        }
      ]
    },
    {
      "cell_type": "code",
      "metadata": {
        "id": "3FGHbWtoD5jo"
      },
      "source": [
        "def trainTestSplit(X,y):\n",
        "  X_train,X_test,y_train,y_test=train_test_split(X,y,test_size=0.3)\n",
        "  return X_train,X_test,y_train,y_test\n",
        "\n",
        "def escalado(X_train,X_test):\n",
        "  sc = StandardScaler()\n",
        "  sc.fit(X_train)\n",
        "  return sc.transform(X_train),sc.transform(X_test)\n",
        "\n",
        "def generarPCA(n_componentes,X):\n",
        "  pca = PCA(n_components=n_componentes)\n",
        "  cp = pca.fit_transform(X)\n",
        "  return pd.DataFrame(data=cp)\n",
        "\n",
        "\n",
        "#RNN Simple\n",
        "def modelo():\n",
        "  input_dim = X_train.shape[1]  # Number of features\n",
        "  model=Sequential()\n",
        "  model.add(Dense(20,input_dim = input_dim,activation='relu'))\n",
        "  model.add(Dense(10,activation='tanh'))\n",
        "  model.add(Dense(1024,activation='relu'))\n",
        "  model.add(layers.BatchNormalization())\n",
        "  model.add(layers.Dropout(0.5))\n",
        "  model.add(Dense(1,activation='sigmoid'))\n",
        "  model.compile(loss='binary_crossentropy', optimizer='adam', metrics=['accuracy'])\n",
        "  return model  \n",
        "\n",
        "\n",
        "def modelo2():\n",
        "  model = Sequential()\n",
        "  model.add(Dense(18,activation='relu'))\n",
        "  model.add(Dense(7,activation='relu'))\n",
        "  model.add(Dense(1,activation='sigmoid'))\n",
        "  model.compile(optimizer='adam',loss = 'binary_crossentropy',metrics=['accuracy'])\n",
        "  #binary_crossentropy / categorical_crossentropy\n",
        "  return model\n",
        "\n",
        "\n",
        "\n",
        "def lossGraph(model): \n",
        "  loss = pd.DataFrame(model.history.history)\n",
        "  plt.figure(figsize=(15,5))\n",
        "  sns.lineplot(data=loss,lw=3)\n",
        "  sns.despine()\n",
        "\n",
        "def pred(model,X_test,y_test):\n",
        "  pred=model.predict(X_test)\n",
        "  for i in range(len(pred)):\n",
        "    if pred[i]>0.5:\n",
        "        pred[i]=1\n",
        "    elif pred[i]<=0.5:\n",
        "        pred[i]=0\n",
        "  return accuracy_score(y_test,pred)\n"
      ],
      "execution_count": null,
      "outputs": []
    },
    {
      "cell_type": "markdown",
      "metadata": {
        "id": "ubThuUW53r7j"
      },
      "source": [
        "**ANN**"
      ]
    },
    {
      "cell_type": "code",
      "metadata": {
        "id": "zJiwnqYpEFRH"
      },
      "source": [
        "X_train,X_test,y_train,y_test = trainTestSplit(X,y)"
      ],
      "execution_count": null,
      "outputs": []
    },
    {
      "cell_type": "code",
      "metadata": {
        "id": "v4lwgbN-EMPP"
      },
      "source": [
        "modelSinPCA_sinBalanceo2 = modelo2()"
      ],
      "execution_count": null,
      "outputs": []
    },
    {
      "cell_type": "code",
      "metadata": {
        "colab": {
          "base_uri": "https://localhost:8080/"
        },
        "id": "yVjHZuzkEPaO",
        "outputId": "d881ce2c-d7f9-402b-9328-4389907d929b"
      },
      "source": [
        "modelSinPCA_sinBalanceo2.fit(x=X_train,y=y_train,validation_data=(X_test,y_test),batch_size=250,epochs=30,verbose=1)"
      ],
      "execution_count": null,
      "outputs": [
        {
          "output_type": "stream",
          "text": [
            "Epoch 1/30\n",
            "12/12 [==============================] - 24s 79ms/step - loss: 0.6643 - accuracy: 0.7221 - val_loss: 0.6117 - val_accuracy: 0.7325\n",
            "Epoch 2/30\n",
            "12/12 [==============================] - 0s 19ms/step - loss: 0.5826 - accuracy: 0.7314 - val_loss: 0.5168 - val_accuracy: 0.7325\n",
            "Epoch 3/30\n",
            "12/12 [==============================] - 0s 22ms/step - loss: 0.4764 - accuracy: 0.7405 - val_loss: 0.4304 - val_accuracy: 0.7325\n",
            "Epoch 4/30\n",
            "12/12 [==============================] - 0s 19ms/step - loss: 0.4013 - accuracy: 0.7267 - val_loss: 0.3719 - val_accuracy: 0.7325\n",
            "Epoch 5/30\n",
            "12/12 [==============================] - 0s 21ms/step - loss: 0.3450 - accuracy: 0.7259 - val_loss: 0.3351 - val_accuracy: 0.7333\n",
            "Epoch 6/30\n",
            "12/12 [==============================] - 0s 20ms/step - loss: 0.3089 - accuracy: 0.7391 - val_loss: 0.3105 - val_accuracy: 0.7825\n",
            "Epoch 7/30\n",
            "12/12 [==============================] - 0s 20ms/step - loss: 0.2889 - accuracy: 0.8006 - val_loss: 0.2927 - val_accuracy: 0.7992\n",
            "Epoch 8/30\n",
            "12/12 [==============================] - 0s 27ms/step - loss: 0.2724 - accuracy: 0.8343 - val_loss: 0.2780 - val_accuracy: 0.8524\n",
            "Epoch 9/30\n",
            "12/12 [==============================] - 0s 21ms/step - loss: 0.2509 - accuracy: 0.8550 - val_loss: 0.2647 - val_accuracy: 0.8667\n",
            "Epoch 10/30\n",
            "12/12 [==============================] - 0s 22ms/step - loss: 0.2342 - accuracy: 0.8909 - val_loss: 0.2522 - val_accuracy: 0.9095\n",
            "Epoch 11/30\n",
            "12/12 [==============================] - 0s 20ms/step - loss: 0.2346 - accuracy: 0.9214 - val_loss: 0.2400 - val_accuracy: 0.9143\n",
            "Epoch 12/30\n",
            "12/12 [==============================] - 0s 19ms/step - loss: 0.2164 - accuracy: 0.9353 - val_loss: 0.2278 - val_accuracy: 0.9167\n",
            "Epoch 13/30\n",
            "12/12 [==============================] - 0s 22ms/step - loss: 0.2152 - accuracy: 0.9343 - val_loss: 0.2156 - val_accuracy: 0.9214\n",
            "Epoch 14/30\n",
            "12/12 [==============================] - 0s 19ms/step - loss: 0.1940 - accuracy: 0.9415 - val_loss: 0.2036 - val_accuracy: 0.9246\n",
            "Epoch 15/30\n",
            "12/12 [==============================] - 0s 20ms/step - loss: 0.1815 - accuracy: 0.9418 - val_loss: 0.1919 - val_accuracy: 0.9262\n",
            "Epoch 16/30\n",
            "12/12 [==============================] - 0s 20ms/step - loss: 0.1698 - accuracy: 0.9496 - val_loss: 0.1805 - val_accuracy: 0.9762\n",
            "Epoch 17/30\n",
            "12/12 [==============================] - 0s 19ms/step - loss: 0.1573 - accuracy: 0.9806 - val_loss: 0.1696 - val_accuracy: 0.9762\n",
            "Epoch 18/30\n",
            "12/12 [==============================] - 0s 18ms/step - loss: 0.1445 - accuracy: 0.9836 - val_loss: 0.1594 - val_accuracy: 0.9762\n",
            "Epoch 19/30\n",
            "12/12 [==============================] - 0s 19ms/step - loss: 0.1302 - accuracy: 0.9842 - val_loss: 0.1500 - val_accuracy: 0.9770\n",
            "Epoch 20/30\n",
            "12/12 [==============================] - 0s 20ms/step - loss: 0.1266 - accuracy: 0.9826 - val_loss: 0.1411 - val_accuracy: 0.9770\n",
            "Epoch 21/30\n",
            "12/12 [==============================] - 0s 25ms/step - loss: 0.1153 - accuracy: 0.9829 - val_loss: 0.1335 - val_accuracy: 0.9746\n",
            "Epoch 22/30\n",
            "12/12 [==============================] - 0s 22ms/step - loss: 0.1025 - accuracy: 0.9848 - val_loss: 0.1267 - val_accuracy: 0.9746\n",
            "Epoch 23/30\n",
            "12/12 [==============================] - 0s 21ms/step - loss: 0.1032 - accuracy: 0.9814 - val_loss: 0.1208 - val_accuracy: 0.9738\n",
            "Epoch 24/30\n",
            "12/12 [==============================] - 0s 22ms/step - loss: 0.0957 - accuracy: 0.9800 - val_loss: 0.1156 - val_accuracy: 0.9738\n",
            "Epoch 25/30\n",
            "12/12 [==============================] - 0s 21ms/step - loss: 0.0852 - accuracy: 0.9860 - val_loss: 0.1111 - val_accuracy: 0.9738\n",
            "Epoch 26/30\n",
            "12/12 [==============================] - 0s 20ms/step - loss: 0.0826 - accuracy: 0.9863 - val_loss: 0.1071 - val_accuracy: 0.9738\n",
            "Epoch 27/30\n",
            "12/12 [==============================] - 0s 21ms/step - loss: 0.0792 - accuracy: 0.9817 - val_loss: 0.1039 - val_accuracy: 0.9738\n",
            "Epoch 28/30\n",
            "12/12 [==============================] - 0s 20ms/step - loss: 0.0753 - accuracy: 0.9831 - val_loss: 0.1009 - val_accuracy: 0.9738\n",
            "Epoch 29/30\n",
            "12/12 [==============================] - 0s 23ms/step - loss: 0.0706 - accuracy: 0.9853 - val_loss: 0.0983 - val_accuracy: 0.9738\n",
            "Epoch 30/30\n",
            "12/12 [==============================] - 0s 18ms/step - loss: 0.0667 - accuracy: 0.9848 - val_loss: 0.0960 - val_accuracy: 0.9730\n"
          ],
          "name": "stdout"
        },
        {
          "output_type": "execute_result",
          "data": {
            "text/plain": [
              "<keras.callbacks.History at 0x7f304f9193d0>"
            ]
          },
          "metadata": {
            "tags": []
          },
          "execution_count": 28
        }
      ]
    },
    {
      "cell_type": "code",
      "metadata": {
        "colab": {
          "base_uri": "https://localhost:8080/",
          "height": 320
        },
        "id": "f96nCt1kEaPh",
        "outputId": "2ad177b6-07de-4bd5-8b91-75b41964ba3c"
      },
      "source": [
        "lossGraph(modelSinPCA_sinBalanceo2)"
      ],
      "execution_count": null,
      "outputs": [
        {
          "output_type": "display_data",
          "data": {
            "image/png": "[encoded data removed]",
            "text/plain": [
              "<Figure size 1080x360 with 1 Axes>"
            ]
          },
          "metadata": {
            "tags": [],
            "needs_background": "light"
          }
        }
      ]
    },
    {
      "cell_type": "code",
      "metadata": {
        "id": "-dRXuPRMEwm2"
      },
      "source": [
        "X_train,X_test,y_train,y_test = trainTestSplit(X,y)\n"
      ],
      "execution_count": null,
      "outputs": []
    },
    {
      "cell_type": "code",
      "metadata": {
        "colab": {
          "base_uri": "https://localhost:8080/"
        },
        "id": "MpLWa540H6gm",
        "outputId": "4cfec2c1-ac90-4fc8-815f-dc9869084591"
      },
      "source": [
        "pred(modelSinPCA_sinBalanceo2,X_test,y_test)"
      ],
      "execution_count": null,
      "outputs": [
        {
          "output_type": "execute_result",
          "data": {
            "text/plain": [
              "0.9825396825396825"
            ]
          },
          "metadata": {
            "tags": []
          },
          "execution_count": 31
        }
      ]
    },
    {
      "cell_type": "code",
      "metadata": {
        "colab": {
          "base_uri": "https://localhost:8080/"
        },
        "id": "ylzCl_TEGKCE",
        "outputId": "b472b1f1-511c-446d-a6e9-36879c53a6db"
      },
      "source": [
        "r2_score(y_train, modelSinPCA_sinBalanceo2.predict(X_train))"
      ],
      "execution_count": null,
      "outputs": [
        {
          "output_type": "execute_result",
          "data": {
            "text/plain": [
              "0.8979813177307387"
            ]
          },
          "metadata": {
            "tags": []
          },
          "execution_count": 32
        }
      ]
    },
    {
      "cell_type": "code",
      "metadata": {
        "colab": {
          "base_uri": "https://localhost:8080/"
        },
        "id": "GJrxdZdsIHJU",
        "outputId": "44ea2951-f039-4e81-a64a-1ae519b131fd"
      },
      "source": [
        "mean_absolute_error(y_train, modelSinPCA_sinBalanceo2.predict(X_train))"
      ],
      "execution_count": null,
      "outputs": [
        {
          "output_type": "execute_result",
          "data": {
            "text/plain": [
              "0.05998475309735362"
            ]
          },
          "metadata": {
            "tags": []
          },
          "execution_count": 33
        }
      ]
    },
    {
      "cell_type": "code",
      "metadata": {
        "id": "x3uvfrecE0p6"
      },
      "source": [
        "modelSinPCA_sinBalanceo = modelo()"
      ],
      "execution_count": null,
      "outputs": []
    },
    {
      "cell_type": "code",
      "metadata": {
        "colab": {
          "base_uri": "https://localhost:8080/"
        },
        "id": "vSeXaGQeE9FJ",
        "outputId": "525447aa-e273-4af6-e5f9-f1f151233ef3"
      },
      "source": [
        "modelSinPCA_sinBalanceo.fit(x=X_train,y=y_train,validation_data=(X_test,y_test),batch_size=15,epochs=10,verbose=1)"
      ],
      "execution_count": null,
      "outputs": [
        {
          "output_type": "stream",
          "name": "stdout",
          "text": [
            "Epoch 1/10\n",
            "196/196 [==============================] - 2s 5ms/step - loss: 0.2225 - accuracy: 0.9020 - val_loss: 0.5525 - val_accuracy: 0.7357\n",
            "Epoch 2/10\n",
            "196/196 [==============================] - 1s 4ms/step - loss: 0.1227 - accuracy: 0.9541 - val_loss: 0.3774 - val_accuracy: 0.7437\n",
            "Epoch 3/10\n",
            "196/196 [==============================] - 1s 4ms/step - loss: 0.0961 - accuracy: 0.9633 - val_loss: 0.1189 - val_accuracy: 0.9246\n",
            "Epoch 4/10\n",
            "196/196 [==============================] - 1s 4ms/step - loss: 0.0888 - accuracy: 0.9690 - val_loss: 0.0833 - val_accuracy: 0.9675\n",
            "Epoch 5/10\n",
            "196/196 [==============================] - 1s 4ms/step - loss: 0.0810 - accuracy: 0.9701 - val_loss: 0.0628 - val_accuracy: 0.9770\n",
            "Epoch 6/10\n",
            "196/196 [==============================] - 1s 4ms/step - loss: 0.0849 - accuracy: 0.9690 - val_loss: 0.0704 - val_accuracy: 0.9778\n",
            "Epoch 7/10\n",
            "196/196 [==============================] - 1s 4ms/step - loss: 0.0775 - accuracy: 0.9690 - val_loss: 0.0808 - val_accuracy: 0.9698\n",
            "Epoch 8/10\n",
            "196/196 [==============================] - 1s 4ms/step - loss: 0.0761 - accuracy: 0.9718 - val_loss: 0.0726 - val_accuracy: 0.9714\n",
            "Epoch 9/10\n",
            "196/196 [==============================] - 1s 4ms/step - loss: 0.0680 - accuracy: 0.9731 - val_loss: 0.0965 - val_accuracy: 0.9635\n",
            "Epoch 10/10\n",
            "196/196 [==============================] - 1s 4ms/step - loss: 0.0854 - accuracy: 0.9738 - val_loss: 0.0711 - val_accuracy: 0.9786\n"
          ]
        },
        {
          "output_type": "execute_result",
          "data": {
            "text/plain": [
              "<keras.callbacks.History at 0x7f7b2b2dc7d0>"
            ]
          },
          "metadata": {},
          "execution_count": 30
        }
      ]
    },
    {
      "cell_type": "code",
      "metadata": {
        "colab": {
          "base_uri": "https://localhost:8080/",
          "height": 320
        },
        "id": "PReZbTiwFeZI",
        "outputId": "5565b2c7-df2a-4c1d-9ade-def6512454df"
      },
      "source": [
        "lossGraph(modelSinPCA_sinBalanceo)"
      ],
      "execution_count": null,
      "outputs": [
        {
          "output_type": "display_data",
          "data": {
            "image/png": "[encoded data removed]",
            "text/plain": [
              "<Figure size 1080x360 with 1 Axes>"
            ]
          },
          "metadata": {
            "needs_background": "light"
          }
        }
      ]
    },
    {
      "cell_type": "code",
      "metadata": {
        "colab": {
          "base_uri": "https://localhost:8080/"
        },
        "id": "aMfJcvmiHWYt",
        "outputId": "4d820468-d547-4c08-abb8-3ca3c9f7ff7d"
      },
      "source": [
        "pred(modelSinPCA_sinBalanceo,X_test, y_test)"
      ],
      "execution_count": null,
      "outputs": [
        {
          "output_type": "execute_result",
          "data": {
            "text/plain": [
              "0.9785714285714285"
            ]
          },
          "metadata": {},
          "execution_count": 32
        }
      ]
    },
    {
      "cell_type": "code",
      "metadata": {
        "colab": {
          "base_uri": "https://localhost:8080/"
        },
        "id": "H24KAoDfH3pm",
        "outputId": "ee016b7b-3b2e-4240-de03-5107588e8922"
      },
      "source": [
        "r2_score(y_train, modelSinPCA_sinBalanceo.predict(X_train))"
      ],
      "execution_count": null,
      "outputs": [
        {
          "output_type": "execute_result",
          "data": {
            "text/plain": [
              "0.9213500239134208"
            ]
          },
          "metadata": {},
          "execution_count": 33
        }
      ]
    },
    {
      "cell_type": "code",
      "metadata": {
        "colab": {
          "base_uri": "https://localhost:8080/"
        },
        "id": "o_7O1C4xIOJb",
        "outputId": "ccd1ada4-dd96-4bbf-be25-43fb2932a314"
      },
      "source": [
        "mean_absolute_error(y_train, modelSinPCA_sinBalanceo.predict(X_train))"
      ],
      "execution_count": null,
      "outputs": [
        {
          "output_type": "execute_result",
          "data": {
            "text/plain": [
              "0.04069691914728701"
            ]
          },
          "metadata": {},
          "execution_count": 34
        }
      ]
    },
    {
      "cell_type": "code",
      "metadata": {
        "id": "BYjLljJheYHR"
      },
      "source": [
        "#Guardar weights para la exportación\n",
        "modelSinPCA_sinBalanceo.save_weights(\"model.h5\")"
      ],
      "execution_count": null,
      "outputs": []
    },
    {
      "cell_type": "code",
      "metadata": {
        "colab": {
          "base_uri": "https://localhost:8080/"
        },
        "id": "uHVUME03eqBa",
        "outputId": "b2825bb5-cc86-472e-b871-b7f320e98ab2"
      },
      "source": [
        "modelSinPCA_sinBalanceo.save(\"modelo.h5\")\n",
        "print(\"Saved model to disk\")"
      ],
      "execution_count": null,
      "outputs": [
        {
          "output_type": "stream",
          "name": "stdout",
          "text": [
            "Saved model to disk\n"
          ]
        }
      ]
    },
    {
      "cell_type": "code",
      "metadata": {
        "colab": {
          "base_uri": "https://localhost:8080/",
          "height": 17
        },
        "id": "8T3nxECue4Ye",
        "outputId": "31efef73-c2f6-464f-ddcf-e62e650d5359"
      },
      "source": [
        "from google.colab import files\n",
        "files.download(\"modelo.h5\")"
      ],
      "execution_count": null,
      "outputs": [
        {
          "output_type": "display_data",
          "data": {
            "application/javascript": [
              "\n",
              "    async function download(id, filename, size) {\n",
              "      if (!google.colab.kernel.accessAllowed) {\n",
              "        return;\n",
              "      }\n",
              "      const div = document.createElement('div');\n",
              "      const label = document.createElement('label');\n",
              "      label.textContent = `Downloading \"${filename}\": `;\n",
              "      div.appendChild(label);\n",
              "      const progress = document.createElement('progress');\n",
              "      progress.max = size;\n",
              "      div.appendChild(progress);\n",
              "      document.body.appendChild(div);\n",
              "\n",
              "      const buffers = [];\n",
              "      let downloaded = 0;\n",
              "\n",
              "      const channel = await google.colab.kernel.comms.open(id);\n",
              "      // Send a message to notify the kernel that we're ready.\n",
              "      channel.send({})\n",
              "\n",
              "      for await (const message of channel.messages) {\n",
              "        // Send a message to notify the kernel that we're ready.\n",
              "        channel.send({})\n",
              "        if (message.buffers) {\n",
              "          for (const buffer of message.buffers) {\n",
              "            buffers.push(buffer);\n",
              "            downloaded += buffer.byteLength;\n",
              "            progress.value = downloaded;\n",
              "          }\n",
              "        }\n",
              "      }\n",
              "      const blob = new Blob(buffers, {type: 'application/binary'});\n",
              "      const a = document.createElement('a');\n",
              "      a.href = window.URL.createObjectURL(blob);\n",
              "      a.download = filename;\n",
              "      div.appendChild(a);\n",
              "      a.click();\n",
              "      div.remove();\n",
              "    }\n",
              "  "
            ],
            "text/plain": [
              "<IPython.core.display.Javascript object>"
            ]
          },
          "metadata": {}
        },
        {
          "output_type": "display_data",
          "data": {
            "application/javascript": [
              "download(\"download_0b191fc4-1c33-4be5-8e3a-cbbb33608a3a\", \"modelo.h5\", 1366280)"
            ],
            "text/plain": [
              "<IPython.core.display.Javascript object>"
            ]
          },
          "metadata": {}
        }
      ]
    },
    {
      "cell_type": "code",
      "metadata": {
        "colab": {
          "base_uri": "https://localhost:8080/",
          "height": 17
        },
        "id": "k0d0qQsHfHSN",
        "outputId": "d0ee0096-97d6-4a68-9509-93ed218e7c38"
      },
      "source": [
        "from google.colab import files\n",
        "files.download(\"model.h5\")"
      ],
      "execution_count": null,
      "outputs": [
        {
          "output_type": "display_data",
          "data": {
            "application/javascript": [
              "\n",
              "    async function download(id, filename, size) {\n",
              "      if (!google.colab.kernel.accessAllowed) {\n",
              "        return;\n",
              "      }\n",
              "      const div = document.createElement('div');\n",
              "      const label = document.createElement('label');\n",
              "      label.textContent = `Downloading \"${filename}\": `;\n",
              "      div.appendChild(label);\n",
              "      const progress = document.createElement('progress');\n",
              "      progress.max = size;\n",
              "      div.appendChild(progress);\n",
              "      document.body.appendChild(div);\n",
              "\n",
              "      const buffers = [];\n",
              "      let downloaded = 0;\n",
              "\n",
              "      const channel = await google.colab.kernel.comms.open(id);\n",
              "      // Send a message to notify the kernel that we're ready.\n",
              "      channel.send({})\n",
              "\n",
              "      for await (const message of channel.messages) {\n",
              "        // Send a message to notify the kernel that we're ready.\n",
              "        channel.send({})\n",
              "        if (message.buffers) {\n",
              "          for (const buffer of message.buffers) {\n",
              "            buffers.push(buffer);\n",
              "            downloaded += buffer.byteLength;\n",
              "            progress.value = downloaded;\n",
              "          }\n",
              "        }\n",
              "      }\n",
              "      const blob = new Blob(buffers, {type: 'application/binary'});\n",
              "      const a = document.createElement('a');\n",
              "      a.href = window.URL.createObjectURL(blob);\n",
              "      a.download = filename;\n",
              "      div.appendChild(a);\n",
              "      a.click();\n",
              "      div.remove();\n",
              "    }\n",
              "  "
            ],
            "text/plain": [
              "<IPython.core.display.Javascript object>"
            ]
          },
          "metadata": {}
        },
        {
          "output_type": "display_data",
          "data": {
            "application/javascript": [
              "download(\"download_d48a1ea2-7fa9-4529-9ae1-e64c33d2173a\", \"model.h5\", 466072)"
            ],
            "text/plain": [
              "<IPython.core.display.Javascript object>"
            ]
          },
          "metadata": {}
        }
      ]
    },
    {
      "cell_type": "code",
      "metadata": {
        "id": "OYWIReo8g8UF"
      },
      "source": [
        "import pickle\n",
        "with open('vectorizer_cnn.pkl', 'wb') as fin:\n",
        "    pickle.dump(vectorizer, fin)\n"
      ],
      "execution_count": null,
      "outputs": []
    },
    {
      "cell_type": "code",
      "metadata": {
        "colab": {
          "base_uri": "https://localhost:8080/",
          "height": 17
        },
        "id": "dgiZvvVYg-_Q",
        "outputId": "fd711148-387d-44b3-a6e2-61521c2a1de3"
      },
      "source": [
        "from google.colab import files\n",
        "files.download(\"vectorizer_cnn.pkl\")"
      ],
      "execution_count": null,
      "outputs": [
        {
          "output_type": "display_data",
          "data": {
            "application/javascript": [
              "\n",
              "    async function download(id, filename, size) {\n",
              "      if (!google.colab.kernel.accessAllowed) {\n",
              "        return;\n",
              "      }\n",
              "      const div = document.createElement('div');\n",
              "      const label = document.createElement('label');\n",
              "      label.textContent = `Downloading \"${filename}\": `;\n",
              "      div.appendChild(label);\n",
              "      const progress = document.createElement('progress');\n",
              "      progress.max = size;\n",
              "      div.appendChild(progress);\n",
              "      document.body.appendChild(div);\n",
              "\n",
              "      const buffers = [];\n",
              "      let downloaded = 0;\n",
              "\n",
              "      const channel = await google.colab.kernel.comms.open(id);\n",
              "      // Send a message to notify the kernel that we're ready.\n",
              "      channel.send({})\n",
              "\n",
              "      for await (const message of channel.messages) {\n",
              "        // Send a message to notify the kernel that we're ready.\n",
              "        channel.send({})\n",
              "        if (message.buffers) {\n",
              "          for (const buffer of message.buffers) {\n",
              "            buffers.push(buffer);\n",
              "            downloaded += buffer.byteLength;\n",
              "            progress.value = downloaded;\n",
              "          }\n",
              "        }\n",
              "      }\n",
              "      const blob = new Blob(buffers, {type: 'application/binary'});\n",
              "      const a = document.createElement('a');\n",
              "      a.href = window.URL.createObjectURL(blob);\n",
              "      a.download = filename;\n",
              "      div.appendChild(a);\n",
              "      a.click();\n",
              "      div.remove();\n",
              "    }\n",
              "  "
            ],
            "text/plain": [
              "<IPython.core.display.Javascript object>"
            ]
          },
          "metadata": {}
        },
        {
          "output_type": "display_data",
          "data": {
            "application/javascript": [
              "download(\"download_5d61c99b-335d-45b3-a14a-201d78ddc50c\", \"vectorizer_cnn\", 347899)"
            ],
            "text/plain": [
              "<IPython.core.display.Javascript object>"
            ]
          },
          "metadata": {}
        }
      ]
    },
    {
      "cell_type": "markdown",
      "metadata": {
        "id": "N3XzcosVISma"
      },
      "source": [
        "Sin Escalado con PCA sin Balanceo"
      ]
    },
    {
      "cell_type": "code",
      "metadata": {
        "id": "tnSxlkbmIR7q"
      },
      "source": [
        "X_train,X_test,y_train,y_test = trainTestSplit(generarPCA(2,X),y)"
      ],
      "execution_count": null,
      "outputs": []
    },
    {
      "cell_type": "code",
      "metadata": {
        "id": "Hag3yTMTIivZ"
      },
      "source": [
        "modelConPCA_sinBalanceo = modelo()"
      ],
      "execution_count": null,
      "outputs": []
    },
    {
      "cell_type": "code",
      "metadata": {
        "colab": {
          "base_uri": "https://localhost:8080/"
        },
        "id": "dWTFyzOVIpaE",
        "outputId": "22dbf4ad-83c3-4471-9c66-5dd78ad2856d"
      },
      "source": [
        "modelConPCA_sinBalanceo.fit(x=X_train,y=y_train,validation_data=(X_test,y_test),batch_size=15,epochs=10,verbose=1)"
      ],
      "execution_count": null,
      "outputs": [
        {
          "output_type": "stream",
          "text": [
            "Epoch 1/10\n",
            "196/196 [==============================] - 2s 6ms/step - loss: 0.4093 - accuracy: 0.8318 - val_loss: 0.4740 - val_accuracy: 0.7405\n",
            "Epoch 2/10\n",
            "196/196 [==============================] - 1s 4ms/step - loss: 0.3028 - accuracy: 0.8666 - val_loss: 0.3317 - val_accuracy: 0.8794\n",
            "Epoch 3/10\n",
            "196/196 [==============================] - 1s 4ms/step - loss: 0.2905 - accuracy: 0.8620 - val_loss: 0.2419 - val_accuracy: 0.8810\n",
            "Epoch 4/10\n",
            "196/196 [==============================] - 1s 4ms/step - loss: 0.2467 - accuracy: 0.8816 - val_loss: 0.2501 - val_accuracy: 0.8833\n",
            "Epoch 5/10\n",
            "196/196 [==============================] - 1s 4ms/step - loss: 0.2646 - accuracy: 0.8652 - val_loss: 0.1873 - val_accuracy: 0.8849\n",
            "Epoch 6/10\n",
            "196/196 [==============================] - 1s 3ms/step - loss: 0.2549 - accuracy: 0.8716 - val_loss: 0.1746 - val_accuracy: 0.8873\n",
            "Epoch 7/10\n",
            "196/196 [==============================] - 1s 4ms/step - loss: 0.2546 - accuracy: 0.8723 - val_loss: 0.2001 - val_accuracy: 0.8849\n",
            "Epoch 8/10\n",
            "196/196 [==============================] - 1s 4ms/step - loss: 0.2193 - accuracy: 0.8908 - val_loss: 0.1657 - val_accuracy: 0.8905\n",
            "Epoch 9/10\n",
            "196/196 [==============================] - 1s 4ms/step - loss: 0.2113 - accuracy: 0.8968 - val_loss: 0.1951 - val_accuracy: 0.8873\n",
            "Epoch 10/10\n",
            "196/196 [==============================] - 1s 4ms/step - loss: 0.2146 - accuracy: 0.9007 - val_loss: 0.2151 - val_accuracy: 0.9032\n"
          ],
          "name": "stdout"
        },
        {
          "output_type": "execute_result",
          "data": {
            "text/plain": [
              "<keras.callbacks.History at 0x7f3049e65d50>"
            ]
          },
          "metadata": {
            "tags": []
          },
          "execution_count": 42
        }
      ]
    },
    {
      "cell_type": "code",
      "metadata": {
        "colab": {
          "base_uri": "https://localhost:8080/",
          "height": 320
        },
        "id": "52d_vvwzIy_O",
        "outputId": "f8488080-1793-441e-bc5b-7a702c8ef41f"
      },
      "source": [
        "lossGraph(modelConPCA_sinBalanceo)"
      ],
      "execution_count": null,
      "outputs": [
        {
          "output_type": "display_data",
          "data": {
            "image/png": "[encoded data removed]",
            "text/plain": [
              "<Figure size 1080x360 with 1 Axes>"
            ]
          },
          "metadata": {
            "tags": [],
            "needs_background": "light"
          }
        }
      ]
    },
    {
      "cell_type": "code",
      "metadata": {
        "colab": {
          "base_uri": "https://localhost:8080/"
        },
        "id": "cQYR5wY7I2nm",
        "outputId": "9a472b1e-67df-4a11-fda1-da041c5600f8"
      },
      "source": [
        "pred(modelConPCA_sinBalanceo,X_test, y_test)"
      ],
      "execution_count": null,
      "outputs": [
        {
          "output_type": "execute_result",
          "data": {
            "text/plain": [
              "0.9031746031746032"
            ]
          },
          "metadata": {
            "tags": []
          },
          "execution_count": 44
        }
      ]
    },
    {
      "cell_type": "markdown",
      "metadata": {
        "id": "FGsgCkyDJO3h"
      },
      "source": [
        "Sin escalado sin PCA con balaceo Over"
      ]
    },
    {
      "cell_type": "code",
      "metadata": {
        "id": "GBJmGaBjJp9V"
      },
      "source": [
        "X_train,X_test,y_train,y_test = trainTestSplit(X_ros,y_ros)"
      ],
      "execution_count": null,
      "outputs": []
    },
    {
      "cell_type": "code",
      "metadata": {
        "id": "J7SsdU79JItW"
      },
      "source": [
        "modelSinPCA_conBalanceoOver = modelo()"
      ],
      "execution_count": null,
      "outputs": []
    },
    {
      "cell_type": "code",
      "metadata": {
        "colab": {
          "base_uri": "https://localhost:8080/"
        },
        "id": "xvooaWRpJRfD",
        "outputId": "71456597-0570-45c0-ca5a-0f83034c4ba1"
      },
      "source": [
        "modelSinPCA_conBalanceoOver.fit(x=X_train,y=y_train,validation_data=(X_test,y_test),batch_size=20,epochs=10,verbose=1)"
      ],
      "execution_count": null,
      "outputs": [
        {
          "output_type": "stream",
          "text": [
            "Epoch 1/10\n",
            "215/215 [==============================] - 3s 8ms/step - loss: 0.3008 - accuracy: 0.8570 - val_loss: 0.4899 - val_accuracy: 0.8454\n",
            "Epoch 2/10\n",
            "215/215 [==============================] - 1s 7ms/step - loss: 0.0759 - accuracy: 0.9771 - val_loss: 0.2440 - val_accuracy: 0.9870\n",
            "Epoch 3/10\n",
            "215/215 [==============================] - 1s 6ms/step - loss: 0.0654 - accuracy: 0.9810 - val_loss: 0.0625 - val_accuracy: 0.9859\n",
            "Epoch 4/10\n",
            "215/215 [==============================] - 1s 6ms/step - loss: 0.0721 - accuracy: 0.9809 - val_loss: 0.0645 - val_accuracy: 0.9870\n",
            "Epoch 5/10\n",
            "215/215 [==============================] - 1s 6ms/step - loss: 0.0694 - accuracy: 0.9793 - val_loss: 0.0703 - val_accuracy: 0.9794\n",
            "Epoch 6/10\n",
            "215/215 [==============================] - 1s 7ms/step - loss: 0.0578 - accuracy: 0.9869 - val_loss: 0.0571 - val_accuracy: 0.9821\n",
            "Epoch 7/10\n",
            "215/215 [==============================] - 1s 7ms/step - loss: 0.0680 - accuracy: 0.9845 - val_loss: 0.0618 - val_accuracy: 0.9805\n",
            "Epoch 8/10\n",
            "215/215 [==============================] - 1s 7ms/step - loss: 0.0628 - accuracy: 0.9842 - val_loss: 0.0596 - val_accuracy: 0.9864\n",
            "Epoch 9/10\n",
            "215/215 [==============================] - 1s 6ms/step - loss: 0.0508 - accuracy: 0.9869 - val_loss: 0.0849 - val_accuracy: 0.9713\n",
            "Epoch 10/10\n",
            "215/215 [==============================] - 1s 6ms/step - loss: 0.0714 - accuracy: 0.9813 - val_loss: 0.0595 - val_accuracy: 0.9799\n"
          ],
          "name": "stdout"
        },
        {
          "output_type": "execute_result",
          "data": {
            "text/plain": [
              "<keras.callbacks.History at 0x7f3049d962d0>"
            ]
          },
          "metadata": {
            "tags": []
          },
          "execution_count": 47
        }
      ]
    },
    {
      "cell_type": "code",
      "metadata": {
        "colab": {
          "base_uri": "https://localhost:8080/",
          "height": 320
        },
        "id": "MjnXSCJpJZkU",
        "outputId": "f4319a52-4459-464d-d1fb-e66b29051a37"
      },
      "source": [
        "lossGraph(modelSinPCA_conBalanceoOver)"
      ],
      "execution_count": null,
      "outputs": [
        {
          "output_type": "display_data",
          "data": {
            "image/png": "[encoded data removed]",
            "text/plain": [
              "<Figure size 1080x360 with 1 Axes>"
            ]
          },
          "metadata": {
            "tags": [],
            "needs_background": "light"
          }
        }
      ]
    },
    {
      "cell_type": "code",
      "metadata": {
        "colab": {
          "base_uri": "https://localhost:8080/"
        },
        "id": "MBxmo4AuJiP8",
        "outputId": "1d0dcefa-3da3-41d1-bd4f-b770bb2c8459"
      },
      "source": [
        "pred(modelSinPCA_conBalanceoOver,X_test, y_test)"
      ],
      "execution_count": null,
      "outputs": [
        {
          "output_type": "execute_result",
          "data": {
            "text/plain": [
              "0.9799349240780911"
            ]
          },
          "metadata": {
            "tags": []
          },
          "execution_count": 49
        }
      ]
    },
    {
      "cell_type": "code",
      "metadata": {
        "colab": {
          "base_uri": "https://localhost:8080/"
        },
        "id": "nXVM1wLGJ7Jr",
        "outputId": "d863a090-a399-425f-dfb7-08471d869f1a"
      },
      "source": [
        "r2_score(y_train, modelSinPCA_conBalanceoOver.predict(X_train))"
      ],
      "execution_count": null,
      "outputs": [
        {
          "output_type": "execute_result",
          "data": {
            "text/plain": [
              "0.9493417690631852"
            ]
          },
          "metadata": {
            "tags": []
          },
          "execution_count": 50
        }
      ]
    },
    {
      "cell_type": "code",
      "metadata": {
        "colab": {
          "base_uri": "https://localhost:8080/"
        },
        "id": "LPWpWn0HKBWk",
        "outputId": "b5cb8b00-0b1e-497a-c995-9231b8ff8d20"
      },
      "source": [
        "mean_absolute_error(y_train, modelSinPCA_conBalanceoOver.predict(X_train))"
      ],
      "execution_count": null,
      "outputs": [
        {
          "output_type": "execute_result",
          "data": {
            "text/plain": [
              "0.02074898092098006"
            ]
          },
          "metadata": {
            "tags": []
          },
          "execution_count": 51
        }
      ]
    },
    {
      "cell_type": "markdown",
      "metadata": {
        "id": "FoCaO_AzKIde"
      },
      "source": [
        "Sin escalado sin PCA con balaceo under"
      ]
    },
    {
      "cell_type": "code",
      "metadata": {
        "id": "ipU3Kti1KEWj"
      },
      "source": [
        "X_train,X_test,y_train,y_test = trainTestSplit(X_rus,y_rus)\n",
        "modelSinPCA_conBalanceoUnder = modelo()"
      ],
      "execution_count": null,
      "outputs": []
    },
    {
      "cell_type": "code",
      "metadata": {
        "colab": {
          "base_uri": "https://localhost:8080/"
        },
        "id": "bng03ozRKOBj",
        "outputId": "c9c369b1-bd3a-493c-d494-781c5ed1ab0f"
      },
      "source": [
        "modelSinPCA_conBalanceoUnder.fit(x=X_train,y=y_train,validation_data=(X_test,y_test),batch_size=10,epochs=15,verbose=1)"
      ],
      "execution_count": null,
      "outputs": [
        {
          "output_type": "stream",
          "text": [
            "Epoch 1/15\n",
            "158/158 [==============================] - 3s 8ms/step - loss: 0.3862 - accuracy: 0.8254 - val_loss: 0.5666 - val_accuracy: 0.7489\n",
            "Epoch 2/15\n",
            "158/158 [==============================] - 1s 5ms/step - loss: 0.1607 - accuracy: 0.9489 - val_loss: 0.3389 - val_accuracy: 0.9468\n",
            "Epoch 3/15\n",
            "158/158 [==============================] - 1s 6ms/step - loss: 0.0933 - accuracy: 0.9775 - val_loss: 0.2157 - val_accuracy: 0.9439\n",
            "Epoch 4/15\n",
            "158/158 [==============================] - 1s 5ms/step - loss: 0.1097 - accuracy: 0.9732 - val_loss: 0.1581 - val_accuracy: 0.9394\n",
            "Epoch 5/15\n",
            "158/158 [==============================] - 1s 5ms/step - loss: 0.0746 - accuracy: 0.9832 - val_loss: 0.2024 - val_accuracy: 0.9453\n",
            "Epoch 6/15\n",
            "158/158 [==============================] - 1s 5ms/step - loss: 0.0691 - accuracy: 0.9856 - val_loss: 0.1181 - val_accuracy: 0.9586\n",
            "Epoch 7/15\n",
            "158/158 [==============================] - 1s 6ms/step - loss: 0.0931 - accuracy: 0.9764 - val_loss: 0.1491 - val_accuracy: 0.9453\n",
            "Epoch 8/15\n",
            "158/158 [==============================] - 1s 6ms/step - loss: 0.0805 - accuracy: 0.9804 - val_loss: 0.3426 - val_accuracy: 0.9276\n",
            "Epoch 9/15\n",
            "158/158 [==============================] - 1s 6ms/step - loss: 0.0640 - accuracy: 0.9872 - val_loss: 0.2028 - val_accuracy: 0.9409\n",
            "Epoch 10/15\n",
            "158/158 [==============================] - 1s 6ms/step - loss: 0.0684 - accuracy: 0.9877 - val_loss: 0.1551 - val_accuracy: 0.9483\n",
            "Epoch 11/15\n",
            "158/158 [==============================] - 1s 6ms/step - loss: 0.0634 - accuracy: 0.9796 - val_loss: 0.1236 - val_accuracy: 0.9527\n",
            "Epoch 12/15\n",
            "158/158 [==============================] - 1s 6ms/step - loss: 0.0756 - accuracy: 0.9762 - val_loss: 0.2753 - val_accuracy: 0.9380\n",
            "Epoch 13/15\n",
            "158/158 [==============================] - 1s 5ms/step - loss: 0.0676 - accuracy: 0.9890 - val_loss: 0.1147 - val_accuracy: 0.9586\n",
            "Epoch 14/15\n",
            "158/158 [==============================] - 1s 5ms/step - loss: 0.0603 - accuracy: 0.9841 - val_loss: 0.1141 - val_accuracy: 0.9513\n",
            "Epoch 15/15\n",
            "158/158 [==============================] - 1s 6ms/step - loss: 0.0566 - accuracy: 0.9866 - val_loss: 0.1809 - val_accuracy: 0.9409\n"
          ],
          "name": "stdout"
        },
        {
          "output_type": "execute_result",
          "data": {
            "text/plain": [
              "<keras.callbacks.History at 0x7f3049a5de90>"
            ]
          },
          "metadata": {
            "tags": []
          },
          "execution_count": 53
        }
      ]
    },
    {
      "cell_type": "code",
      "metadata": {
        "colab": {
          "base_uri": "https://localhost:8080/",
          "height": 320
        },
        "id": "1yTknsCsKbv0",
        "outputId": "ce5800e5-813b-46f0-e572-6428a8b300f2"
      },
      "source": [
        "lossGraph(modelSinPCA_conBalanceoUnder)"
      ],
      "execution_count": null,
      "outputs": [
        {
          "output_type": "display_data",
          "data": {
            "image/png": "[encoded data removed]",
            "text/plain": [
              "<Figure size 1080x360 with 1 Axes>"
            ]
          },
          "metadata": {
            "tags": [],
            "needs_background": "light"
          }
        }
      ]
    },
    {
      "cell_type": "code",
      "metadata": {
        "colab": {
          "base_uri": "https://localhost:8080/"
        },
        "id": "fRCa2DVNKqVW",
        "outputId": "0e95f31f-111a-44a8-f9ae-b9fe9374cec7"
      },
      "source": [
        "pred(modelSinPCA_conBalanceoUnder,X_test, y_test)"
      ],
      "execution_count": null,
      "outputs": [
        {
          "output_type": "execute_result",
          "data": {
            "text/plain": [
              "0.9409158050221565"
            ]
          },
          "metadata": {
            "tags": []
          },
          "execution_count": 55
        }
      ]
    },
    {
      "cell_type": "code",
      "metadata": {
        "colab": {
          "base_uri": "https://localhost:8080/"
        },
        "id": "rq1y_7-2Kr0k",
        "outputId": "764a2724-39d7-44ba-eb2f-af76fe66ff5d"
      },
      "source": [
        "r2_score(y_train, modelSinPCA_conBalanceoUnder.predict(X_train))"
      ],
      "execution_count": null,
      "outputs": [
        {
          "output_type": "execute_result",
          "data": {
            "text/plain": [
              "0.9594400722548672"
            ]
          },
          "metadata": {
            "tags": []
          },
          "execution_count": 56
        }
      ]
    },
    {
      "cell_type": "code",
      "metadata": {
        "colab": {
          "base_uri": "https://localhost:8080/"
        },
        "id": "fYN9nlcUK5Ts",
        "outputId": "955ad23f-d782-499c-9c3a-e31eaf6113ab"
      },
      "source": [
        "mean_absolute_error(y_train, modelSinPCA_conBalanceoUnder.predict(X_train))"
      ],
      "execution_count": null,
      "outputs": [
        {
          "output_type": "execute_result",
          "data": {
            "text/plain": [
              "0.012416136236479376"
            ]
          },
          "metadata": {
            "tags": []
          },
          "execution_count": 57
        }
      ]
    },
    {
      "cell_type": "markdown",
      "metadata": {
        "id": "ayQxcDngLG2m"
      },
      "source": [
        "Sin escalado sin PCA con balaceo SMOTE"
      ]
    },
    {
      "cell_type": "code",
      "metadata": {
        "id": "pb4Q6k_1K_Dd"
      },
      "source": [
        "X_train,X_test,y_train,y_test = trainTestSplit(X_sm,y_sm)\n",
        "modelSinPCA_conBalanceoSmote = modelo()"
      ],
      "execution_count": null,
      "outputs": []
    },
    {
      "cell_type": "code",
      "metadata": {
        "colab": {
          "base_uri": "https://localhost:8080/"
        },
        "id": "XA6OFhWRLKMU",
        "outputId": "4e51827d-2984-4c2b-c350-e339672e41fd"
      },
      "source": [
        "modelSinPCA_conBalanceoSmote.fit(x=X_train,y=y_train,validation_data=(X_test,y_test),batch_size=15,epochs=30,verbose=1)#15"
      ],
      "execution_count": null,
      "outputs": [
        {
          "output_type": "stream",
          "text": [
            "Epoch 1/30\n",
            "287/287 [==============================] - 4s 8ms/step - loss: 0.2787 - accuracy: 0.8832 - val_loss: 0.4995 - val_accuracy: 0.5597\n",
            "Epoch 2/30\n",
            "287/287 [==============================] - 2s 7ms/step - loss: 0.1253 - accuracy: 0.9600 - val_loss: 0.1113 - val_accuracy: 0.9756\n",
            "Epoch 3/30\n",
            "287/287 [==============================] - 2s 6ms/step - loss: 0.0926 - accuracy: 0.9736 - val_loss: 0.0951 - val_accuracy: 0.9767\n",
            "Epoch 4/30\n",
            "287/287 [==============================] - 2s 6ms/step - loss: 0.0741 - accuracy: 0.9810 - val_loss: 0.0703 - val_accuracy: 0.9783\n",
            "Epoch 5/30\n",
            "287/287 [==============================] - 2s 6ms/step - loss: 0.0770 - accuracy: 0.9784 - val_loss: 0.0733 - val_accuracy: 0.9783\n",
            "Epoch 6/30\n",
            "287/287 [==============================] - 2s 6ms/step - loss: 0.0811 - accuracy: 0.9801 - val_loss: 0.0961 - val_accuracy: 0.9767\n",
            "Epoch 7/30\n",
            "287/287 [==============================] - 2s 5ms/step - loss: 0.0802 - accuracy: 0.9813 - val_loss: 0.0751 - val_accuracy: 0.9778\n",
            "Epoch 8/30\n",
            "287/287 [==============================] - 2s 6ms/step - loss: 0.0573 - accuracy: 0.9863 - val_loss: 0.0918 - val_accuracy: 0.9783\n",
            "Epoch 9/30\n",
            "287/287 [==============================] - 2s 6ms/step - loss: 0.0695 - accuracy: 0.9808 - val_loss: 0.0819 - val_accuracy: 0.9772\n",
            "Epoch 10/30\n",
            "287/287 [==============================] - 2s 6ms/step - loss: 0.0597 - accuracy: 0.9885 - val_loss: 0.0671 - val_accuracy: 0.9794\n",
            "Epoch 11/30\n",
            "287/287 [==============================] - 2s 6ms/step - loss: 0.0626 - accuracy: 0.9812 - val_loss: 0.1056 - val_accuracy: 0.9680\n",
            "Epoch 12/30\n",
            "287/287 [==============================] - 2s 6ms/step - loss: 0.0695 - accuracy: 0.9819 - val_loss: 0.0744 - val_accuracy: 0.9789\n",
            "Epoch 13/30\n",
            "287/287 [==============================] - 2s 6ms/step - loss: 0.0774 - accuracy: 0.9757 - val_loss: 0.1012 - val_accuracy: 0.9723\n",
            "Epoch 14/30\n",
            "287/287 [==============================] - 2s 6ms/step - loss: 0.0666 - accuracy: 0.9875 - val_loss: 0.0724 - val_accuracy: 0.9778\n",
            "Epoch 15/30\n",
            "287/287 [==============================] - 2s 6ms/step - loss: 0.0673 - accuracy: 0.9799 - val_loss: 0.0760 - val_accuracy: 0.9756\n",
            "Epoch 16/30\n",
            "287/287 [==============================] - 2s 6ms/step - loss: 0.0657 - accuracy: 0.9855 - val_loss: 0.0988 - val_accuracy: 0.9740\n",
            "Epoch 17/30\n",
            "287/287 [==============================] - 2s 6ms/step - loss: 0.0718 - accuracy: 0.9789 - val_loss: 0.0753 - val_accuracy: 0.9761\n",
            "Epoch 18/30\n",
            "287/287 [==============================] - 2s 7ms/step - loss: 0.0539 - accuracy: 0.9900 - val_loss: 0.0843 - val_accuracy: 0.9751\n",
            "Epoch 19/30\n",
            "287/287 [==============================] - 2s 6ms/step - loss: 0.0682 - accuracy: 0.9852 - val_loss: 0.1235 - val_accuracy: 0.9648\n",
            "Epoch 20/30\n",
            "287/287 [==============================] - 2s 6ms/step - loss: 0.0820 - accuracy: 0.9828 - val_loss: 0.1653 - val_accuracy: 0.9544\n",
            "Epoch 21/30\n",
            "287/287 [==============================] - 2s 6ms/step - loss: 0.0667 - accuracy: 0.9850 - val_loss: 0.0706 - val_accuracy: 0.9761\n",
            "Epoch 22/30\n",
            "287/287 [==============================] - 2s 6ms/step - loss: 0.0568 - accuracy: 0.9850 - val_loss: 0.0889 - val_accuracy: 0.9713\n",
            "Epoch 23/30\n",
            "287/287 [==============================] - 2s 6ms/step - loss: 0.0728 - accuracy: 0.9864 - val_loss: 0.0881 - val_accuracy: 0.9723\n",
            "Epoch 24/30\n",
            "287/287 [==============================] - 2s 5ms/step - loss: 0.0542 - accuracy: 0.9888 - val_loss: 0.0786 - val_accuracy: 0.9756\n",
            "Epoch 25/30\n",
            "287/287 [==============================] - 2s 6ms/step - loss: 0.0723 - accuracy: 0.9859 - val_loss: 0.0820 - val_accuracy: 0.9740\n",
            "Epoch 26/30\n",
            "287/287 [==============================] - 2s 6ms/step - loss: 0.0659 - accuracy: 0.9819 - val_loss: 0.1584 - val_accuracy: 0.9631\n",
            "Epoch 27/30\n",
            "287/287 [==============================] - 2s 6ms/step - loss: 0.0609 - accuracy: 0.9859 - val_loss: 0.1064 - val_accuracy: 0.9664\n",
            "Epoch 28/30\n",
            "287/287 [==============================] - 2s 5ms/step - loss: 0.0562 - accuracy: 0.9848 - val_loss: 0.0856 - val_accuracy: 0.9729\n",
            "Epoch 29/30\n",
            "287/287 [==============================] - 2s 6ms/step - loss: 0.0739 - accuracy: 0.9834 - val_loss: 0.1293 - val_accuracy: 0.9631\n",
            "Epoch 30/30\n",
            "287/287 [==============================] - 2s 6ms/step - loss: 0.0543 - accuracy: 0.9885 - val_loss: 0.0992 - val_accuracy: 0.9669\n"
          ],
          "name": "stdout"
        },
        {
          "output_type": "execute_result",
          "data": {
            "text/plain": [
              "<keras.callbacks.History at 0x7f30394e9d90>"
            ]
          },
          "metadata": {
            "tags": []
          },
          "execution_count": 59
        }
      ]
    },
    {
      "cell_type": "code",
      "metadata": {
        "colab": {
          "base_uri": "https://localhost:8080/",
          "height": 320
        },
        "id": "IhA5FR0PLTcE",
        "outputId": "fac79592-7805-4fa5-ab28-18f0ee1d4dac"
      },
      "source": [
        "lossGraph(modelSinPCA_conBalanceoSmote)"
      ],
      "execution_count": null,
      "outputs": [
        {
          "output_type": "display_data",
          "data": {
            "image/png": "[encoded data removed]",
            "text/plain": [
              "<Figure size 1080x360 with 1 Axes>"
            ]
          },
          "metadata": {
            "tags": [],
            "needs_background": "light"
          }
        }
      ]
    },
    {
      "cell_type": "code",
      "metadata": {
        "colab": {
          "base_uri": "https://localhost:8080/"
        },
        "id": "eB29iw58Lywr",
        "outputId": "65c57f21-5616-4b54-ef9a-9b75a00dadeb"
      },
      "source": [
        "pred(modelSinPCA_conBalanceoSmote,X_test, y_test)"
      ],
      "execution_count": null,
      "outputs": [
        {
          "output_type": "execute_result",
          "data": {
            "text/plain": [
              "0.9669197396963124"
            ]
          },
          "metadata": {
            "tags": []
          },
          "execution_count": 61
        }
      ]
    },
    {
      "cell_type": "code",
      "metadata": {
        "colab": {
          "base_uri": "https://localhost:8080/"
        },
        "id": "HFg9FDUML06g",
        "outputId": "896df601-6fcf-406c-b3c7-611858c60de9"
      },
      "source": [
        "r2_score(y_train, modelSinPCA_conBalanceoSmote.predict(X_train))"
      ],
      "execution_count": null,
      "outputs": [
        {
          "output_type": "execute_result",
          "data": {
            "text/plain": [
              "0.9551576194190847"
            ]
          },
          "metadata": {
            "tags": []
          },
          "execution_count": 62
        }
      ]
    },
    {
      "cell_type": "code",
      "metadata": {
        "colab": {
          "base_uri": "https://localhost:8080/"
        },
        "id": "TnWi2LaVL7Dr",
        "outputId": "355a2a5b-d8dd-4597-bde6-45ce674ca1c9"
      },
      "source": [
        "mean_absolute_error(y_train, modelSinPCA_conBalanceoSmote.predict(X_train))"
      ],
      "execution_count": null,
      "outputs": [
        {
          "output_type": "execute_result",
          "data": {
            "text/plain": [
              "0.016324785968766128"
            ]
          },
          "metadata": {
            "tags": []
          },
          "execution_count": 63
        }
      ]
    },
    {
      "cell_type": "markdown",
      "metadata": {
        "id": "Cut4hS83LSnu"
      },
      "source": [
        "Sin escalado con PCA con balaceo Over"
      ]
    },
    {
      "cell_type": "code",
      "metadata": {
        "id": "hX3rOSKeMY17"
      },
      "source": [
        "X_train,X_test,y_train,y_test = trainTestSplit(generarPCA(2,X_ros),y_ros)\n",
        "modelConPCA_conBalanceoOver = modelo()"
      ],
      "execution_count": null,
      "outputs": []
    },
    {
      "cell_type": "code",
      "metadata": {
        "colab": {
          "base_uri": "https://localhost:8080/"
        },
        "id": "0vj-_nDwMcsN",
        "outputId": "de1ea48e-9e09-422b-a35f-7fc829b1a663"
      },
      "source": [
        "modelConPCA_conBalanceoOver.fit(x=X_train,y=y_train,validation_data=(X_test,y_test),batch_size=9,epochs=20,verbose=1)"
      ],
      "execution_count": null,
      "outputs": [
        {
          "output_type": "stream",
          "text": [
            "Epoch 1/20\n",
            "478/478 [==============================] - 3s 4ms/step - loss: 0.4603 - accuracy: 0.7529 - val_loss: 0.5060 - val_accuracy: 0.6670\n",
            "Epoch 2/20\n",
            "478/478 [==============================] - 2s 4ms/step - loss: 0.4165 - accuracy: 0.7746 - val_loss: 0.5310 - val_accuracy: 0.6920\n",
            "Epoch 3/20\n",
            "478/478 [==============================] - 2s 4ms/step - loss: 0.3963 - accuracy: 0.7890 - val_loss: 0.4246 - val_accuracy: 0.7543\n",
            "Epoch 4/20\n",
            "478/478 [==============================] - 2s 4ms/step - loss: 0.3665 - accuracy: 0.8153 - val_loss: 0.3115 - val_accuracy: 0.8709\n",
            "Epoch 5/20\n",
            "478/478 [==============================] - 2s 4ms/step - loss: 0.3780 - accuracy: 0.8252 - val_loss: 0.4750 - val_accuracy: 0.7652\n",
            "Epoch 6/20\n",
            "478/478 [==============================] - 2s 3ms/step - loss: 0.3547 - accuracy: 0.8325 - val_loss: 0.2863 - val_accuracy: 0.8639\n",
            "Epoch 7/20\n",
            "478/478 [==============================] - 2s 4ms/step - loss: 0.3356 - accuracy: 0.8354 - val_loss: 0.2550 - val_accuracy: 0.8937\n",
            "Epoch 8/20\n",
            "478/478 [==============================] - 2s 3ms/step - loss: 0.3355 - accuracy: 0.8427 - val_loss: 0.2494 - val_accuracy: 0.8368\n",
            "Epoch 9/20\n",
            "478/478 [==============================] - 2s 4ms/step - loss: 0.3096 - accuracy: 0.8606 - val_loss: 0.3389 - val_accuracy: 0.8335\n",
            "Epoch 10/20\n",
            "478/478 [==============================] - 2s 3ms/step - loss: 0.3219 - accuracy: 0.8532 - val_loss: 0.3010 - val_accuracy: 0.8536\n",
            "Epoch 11/20\n",
            "478/478 [==============================] - 2s 3ms/step - loss: 0.3116 - accuracy: 0.8610 - val_loss: 0.3656 - val_accuracy: 0.8248\n",
            "Epoch 12/20\n",
            "478/478 [==============================] - 2s 4ms/step - loss: 0.2923 - accuracy: 0.8778 - val_loss: 0.2959 - val_accuracy: 0.8595\n",
            "Epoch 13/20\n",
            "478/478 [==============================] - 2s 3ms/step - loss: 0.3017 - accuracy: 0.8668 - val_loss: 0.2547 - val_accuracy: 0.8937\n",
            "Epoch 14/20\n",
            "478/478 [==============================] - 2s 4ms/step - loss: 0.2954 - accuracy: 0.8638 - val_loss: 0.2250 - val_accuracy: 0.9116\n",
            "Epoch 15/20\n",
            "478/478 [==============================] - 2s 4ms/step - loss: 0.2912 - accuracy: 0.8640 - val_loss: 0.3959 - val_accuracy: 0.8243\n",
            "Epoch 16/20\n",
            "478/478 [==============================] - 2s 3ms/step - loss: 0.2980 - accuracy: 0.8717 - val_loss: 0.2300 - val_accuracy: 0.9235\n",
            "Epoch 17/20\n",
            "478/478 [==============================] - 2s 4ms/step - loss: 0.2758 - accuracy: 0.8809 - val_loss: 0.3009 - val_accuracy: 0.8568\n",
            "Epoch 18/20\n",
            "478/478 [==============================] - 2s 4ms/step - loss: 0.2788 - accuracy: 0.8812 - val_loss: 0.2246 - val_accuracy: 0.9111\n",
            "Epoch 19/20\n",
            "478/478 [==============================] - 2s 4ms/step - loss: 0.3088 - accuracy: 0.8623 - val_loss: 0.5551 - val_accuracy: 0.7771\n",
            "Epoch 20/20\n",
            "478/478 [==============================] - 2s 4ms/step - loss: 0.2961 - accuracy: 0.8761 - val_loss: 0.4252 - val_accuracy: 0.8162\n"
          ],
          "name": "stdout"
        },
        {
          "output_type": "execute_result",
          "data": {
            "text/plain": [
              "<keras.callbacks.History at 0x7f304e788750>"
            ]
          },
          "metadata": {
            "tags": []
          },
          "execution_count": 65
        }
      ]
    },
    {
      "cell_type": "code",
      "metadata": {
        "colab": {
          "base_uri": "https://localhost:8080/",
          "height": 320
        },
        "id": "hsBefsTjMgum",
        "outputId": "473a7687-e752-4165-e5a0-c47174f2cb1f"
      },
      "source": [
        "lossGraph(modelConPCA_conBalanceoOver)"
      ],
      "execution_count": null,
      "outputs": [
        {
          "output_type": "display_data",
          "data": {
            "image/png": "[encoded data removed]",
            "text/plain": [
              "<Figure size 1080x360 with 1 Axes>"
            ]
          },
          "metadata": {
            "tags": [],
            "needs_background": "light"
          }
        }
      ]
    },
    {
      "cell_type": "markdown",
      "metadata": {
        "id": "MsYkjbhXMyLj"
      },
      "source": [
        "Sin escalado con PCA con balaceo Under ANN"
      ]
    },
    {
      "cell_type": "code",
      "metadata": {
        "id": "aM8QLLCYMyt-"
      },
      "source": [
        "X_train,X_test,y_train,y_test = trainTestSplit(generarPCA(2,X_rus),y_rus)"
      ],
      "execution_count": null,
      "outputs": []
    },
    {
      "cell_type": "code",
      "metadata": {
        "id": "g3RV_elNM2CZ"
      },
      "source": [
        "modelConPCA_conBalanceoUnder = modelo()"
      ],
      "execution_count": null,
      "outputs": []
    },
    {
      "cell_type": "code",
      "metadata": {
        "colab": {
          "base_uri": "https://localhost:8080/"
        },
        "id": "H0cZRWmaM9Jv",
        "outputId": "3454d5f3-c6dc-4b05-8f86-c0dada9b2494"
      },
      "source": [
        "modelConPCA_conBalanceoUnder.fit(x=X_train,y=y_train,validation_data=(X_test,y_test),batch_size=15,epochs=10,verbose=1)"
      ],
      "execution_count": null,
      "outputs": [
        {
          "output_type": "stream",
          "text": [
            "Epoch 1/10\n",
            "106/106 [==============================] - 2s 8ms/step - loss: 0.5028 - accuracy: 0.7187 - val_loss: 0.6220 - val_accuracy: 0.6632\n",
            "Epoch 2/10\n",
            "106/106 [==============================] - 0s 4ms/step - loss: 0.4761 - accuracy: 0.7251 - val_loss: 0.5455 - val_accuracy: 0.9099\n",
            "Epoch 3/10\n",
            "106/106 [==============================] - 0s 4ms/step - loss: 0.4392 - accuracy: 0.7494 - val_loss: 0.4912 - val_accuracy: 0.9025\n",
            "Epoch 4/10\n",
            "106/106 [==============================] - 0s 4ms/step - loss: 0.3657 - accuracy: 0.8118 - val_loss: 0.4164 - val_accuracy: 0.7607\n",
            "Epoch 5/10\n",
            "106/106 [==============================] - 0s 4ms/step - loss: 0.3662 - accuracy: 0.8128 - val_loss: 0.3447 - val_accuracy: 0.8907\n",
            "Epoch 6/10\n",
            "106/106 [==============================] - 0s 4ms/step - loss: 0.3296 - accuracy: 0.8338 - val_loss: 0.4269 - val_accuracy: 0.7563\n",
            "Epoch 7/10\n",
            "106/106 [==============================] - 0s 4ms/step - loss: 0.3582 - accuracy: 0.8135 - val_loss: 0.3401 - val_accuracy: 0.7991\n",
            "Epoch 8/10\n",
            "106/106 [==============================] - 0s 4ms/step - loss: 0.3562 - accuracy: 0.8288 - val_loss: 0.3691 - val_accuracy: 0.8035\n",
            "Epoch 9/10\n",
            "106/106 [==============================] - 0s 4ms/step - loss: 0.3054 - accuracy: 0.8453 - val_loss: 0.2699 - val_accuracy: 0.8951\n",
            "Epoch 10/10\n",
            "106/106 [==============================] - 0s 4ms/step - loss: 0.3192 - accuracy: 0.8488 - val_loss: 0.3650 - val_accuracy: 0.8287\n"
          ],
          "name": "stdout"
        },
        {
          "output_type": "execute_result",
          "data": {
            "text/plain": [
              "<keras.callbacks.History at 0x7f304a01e550>"
            ]
          },
          "metadata": {
            "tags": []
          },
          "execution_count": 69
        }
      ]
    },
    {
      "cell_type": "code",
      "metadata": {
        "colab": {
          "base_uri": "https://localhost:8080/",
          "height": 320
        },
        "id": "X_jeYe5cNDI6",
        "outputId": "5a769e92-26b4-4c88-d82e-91d362c13f69"
      },
      "source": [
        "lossGraph(modelConPCA_conBalanceoUnder)"
      ],
      "execution_count": null,
      "outputs": [
        {
          "output_type": "display_data",
          "data": {
            "image/png": "[encoded data removed]",
            "text/plain": [
              "<Figure size 1080x360 with 1 Axes>"
            ]
          },
          "metadata": {
            "tags": [],
            "needs_background": "light"
          }
        }
      ]
    },
    {
      "cell_type": "markdown",
      "metadata": {
        "id": "e1DOkjmiNQYK"
      },
      "source": [
        "Sin escalado con PCA con balaceo SMOTE"
      ]
    },
    {
      "cell_type": "code",
      "metadata": {
        "id": "7KScyXTINO32"
      },
      "source": [
        "X_train,X_test,y_train,y_test = trainTestSplit(generarPCA(2,X_sm),y_sm)\n",
        "modelConPCA_conBalanceoSmote = modelo()"
      ],
      "execution_count": null,
      "outputs": []
    },
    {
      "cell_type": "code",
      "metadata": {
        "colab": {
          "base_uri": "https://localhost:8080/"
        },
        "id": "ixcYDGJ2NVTq",
        "outputId": "b489cc1f-3e21-48d5-ef35-486ef6110760"
      },
      "source": [
        "modelConPCA_conBalanceoSmote.fit(x=X_train,y=y_train,validation_data=(X_test,y_test),batch_size=13,epochs=10,verbose=1)"
      ],
      "execution_count": null,
      "outputs": [
        {
          "output_type": "stream",
          "text": [
            "Epoch 1/10\n",
            "331/331 [==============================] - 3s 5ms/step - loss: 0.4391 - accuracy: 0.7559 - val_loss: 0.4767 - val_accuracy: 0.8585\n",
            "Epoch 2/10\n",
            "331/331 [==============================] - 1s 3ms/step - loss: 0.3465 - accuracy: 0.8304 - val_loss: 0.2941 - val_accuracy: 0.9056\n",
            "Epoch 3/10\n",
            "331/331 [==============================] - 1s 4ms/step - loss: 0.3346 - accuracy: 0.8398 - val_loss: 0.2524 - val_accuracy: 0.9214\n",
            "Epoch 4/10\n",
            "331/331 [==============================] - 1s 4ms/step - loss: 0.2856 - accuracy: 0.8642 - val_loss: 0.2303 - val_accuracy: 0.9024\n",
            "Epoch 5/10\n",
            "331/331 [==============================] - 1s 4ms/step - loss: 0.2776 - accuracy: 0.8696 - val_loss: 0.2194 - val_accuracy: 0.9230\n",
            "Epoch 6/10\n",
            "331/331 [==============================] - 1s 4ms/step - loss: 0.2845 - accuracy: 0.8763 - val_loss: 0.2495 - val_accuracy: 0.8124\n",
            "Epoch 7/10\n",
            "331/331 [==============================] - 1s 4ms/step - loss: 0.2753 - accuracy: 0.8805 - val_loss: 0.2487 - val_accuracy: 0.8129\n",
            "Epoch 8/10\n",
            "331/331 [==============================] - 1s 4ms/step - loss: 0.2817 - accuracy: 0.8727 - val_loss: 0.2199 - val_accuracy: 0.9403\n",
            "Epoch 9/10\n",
            "331/331 [==============================] - 1s 4ms/step - loss: 0.2617 - accuracy: 0.8773 - val_loss: 0.2050 - val_accuracy: 0.9295\n",
            "Epoch 10/10\n",
            "331/331 [==============================] - 1s 3ms/step - loss: 0.2668 - accuracy: 0.8848 - val_loss: 0.2449 - val_accuracy: 0.8129\n"
          ],
          "name": "stdout"
        },
        {
          "output_type": "execute_result",
          "data": {
            "text/plain": [
              "<keras.callbacks.History at 0x7f3038a33110>"
            ]
          },
          "metadata": {
            "tags": []
          },
          "execution_count": 72
        }
      ]
    },
    {
      "cell_type": "code",
      "metadata": {
        "colab": {
          "base_uri": "https://localhost:8080/",
          "height": 320
        },
        "id": "-fhGwdtVNe4z",
        "outputId": "34a3bf01-0190-4ab2-b93b-7bf093f5f5e5"
      },
      "source": [
        "lossGraph(modelConPCA_conBalanceoSmote)"
      ],
      "execution_count": null,
      "outputs": [
        {
          "output_type": "display_data",
          "data": {
            "image/png": "[encoded data removed]",
            "text/plain": [
              "<Figure size 1080x360 with 1 Axes>"
            ]
          },
          "metadata": {
            "tags": [],
            "needs_background": "light"
          }
        }
      ]
    },
    {
      "cell_type": "markdown",
      "metadata": {
        "id": "s5PT-5FS3mRE"
      },
      "source": [
        "**LogisticRegression**\n"
      ]
    },
    {
      "cell_type": "code",
      "metadata": {
        "id": "szM8xeliN-MH"
      },
      "source": [
        "X_train, X_test, y_train, y_test = train_test_split(X, y, test_size=0.2,random_state=42)"
      ],
      "execution_count": null,
      "outputs": []
    },
    {
      "cell_type": "code",
      "metadata": {
        "id": "i6yEsSW63AN-"
      },
      "source": [
        "modelLogicRegression=LogisticRegression(random_state=7).fit(X_train,y_train)"
      ],
      "execution_count": null,
      "outputs": []
    },
    {
      "cell_type": "code",
      "metadata": {
        "colab": {
          "base_uri": "https://localhost:8080/"
        },
        "id": "yFOpnGJXNrYp",
        "outputId": "b7b982d2-a0cd-404a-a637-6fbb75e38abb"
      },
      "source": [
        "pred(modelLogicRegression,X_test,y_test)"
      ],
      "execution_count": null,
      "outputs": [
        {
          "output_type": "execute_result",
          "data": {
            "text/plain": [
              "0.9285714285714286"
            ]
          },
          "metadata": {
            "tags": []
          },
          "execution_count": 76
        }
      ]
    },
    {
      "cell_type": "code",
      "metadata": {
        "id": "ZaeUS85T7Ymx",
        "colab": {
          "base_uri": "https://localhost:8080/"
        },
        "outputId": "974b9a0e-2084-4c57-aac8-061e2b96f680"
      },
      "source": [
        "r2_score(y_train, modelLogicRegression.predict(X_train))"
      ],
      "execution_count": null,
      "outputs": [
        {
          "output_type": "execute_result",
          "data": {
            "text/plain": [
              "0.6741887807998588"
            ]
          },
          "metadata": {
            "tags": []
          },
          "execution_count": 77
        }
      ]
    },
    {
      "cell_type": "code",
      "metadata": {
        "id": "OKBRIcBY7cwh",
        "colab": {
          "base_uri": "https://localhost:8080/"
        },
        "outputId": "dd620e58-709c-4f4d-93b0-a94cbe1dbdd0"
      },
      "source": [
        "mean_absolute_error(y_train, modelLogicRegression.predict(X_train))"
      ],
      "execution_count": null,
      "outputs": [
        {
          "output_type": "execute_result",
          "data": {
            "text/plain": [
              "0.06279761904761905"
            ]
          },
          "metadata": {
            "tags": []
          },
          "execution_count": 78
        }
      ]
    },
    {
      "cell_type": "code",
      "metadata": {
        "id": "NyZktHL57134"
      },
      "source": [
        "def accuracy_function(tp,tn,fp,fn):\n",
        "    \n",
        "    accuracy = (tp+tn) / (tp+tn+fp+fn)\n",
        "    \n",
        "    return accuracy"
      ],
      "execution_count": null,
      "outputs": []
    },
    {
      "cell_type": "code",
      "metadata": {
        "id": "2VsNbiHL72ko"
      },
      "source": [
        "def precision_function(tp,fp):\n",
        "    \n",
        "    precision = tp / (tp+fp)\n",
        "    \n",
        "    return precision"
      ],
      "execution_count": null,
      "outputs": []
    },
    {
      "cell_type": "code",
      "metadata": {
        "id": "J2n-GCXT74hw"
      },
      "source": [
        "def recall_function(tp,fn):\n",
        "    \n",
        "    recall=tp / (tp+fn)\n",
        "    \n",
        "    return recall"
      ],
      "execution_count": null,
      "outputs": []
    },
    {
      "cell_type": "code",
      "metadata": {
        "id": "VdHT8yu8752o"
      },
      "source": [
        "def confusion_matrix(truth,predicted):\n",
        "    \n",
        "    true_positive = 0\n",
        "    true_negative = 0\n",
        "    false_positive = 0\n",
        "    false_negative = 0\n",
        "    \n",
        "    for true,pred in zip(truth,predicted):\n",
        "        if true == 1:\n",
        "            if pred == true:\n",
        "                true_positive += 1\n",
        "            elif pred != true:\n",
        "                false_negative += 1\n",
        "\n",
        "        elif true == 0:\n",
        "            if pred == true:\n",
        "                true_negative += 1\n",
        "            elif pred != true:\n",
        "                false_positive += 1\n",
        "            \n",
        "    accuracy=accuracy_function(true_positive, true_negative, false_positive, false_negative)\n",
        "    precision=precision_function(true_positive, false_positive)\n",
        "    recall=recall_function(true_positive, false_negative)\n",
        "    \n",
        "    return (accuracy,\n",
        "            precision,\n",
        "           recall)"
      ],
      "execution_count": null,
      "outputs": []
    },
    {
      "cell_type": "code",
      "metadata": {
        "id": "z1XmPV5gOwl0"
      },
      "source": [
        " pred=modelLogicRegression.predict(X_test)"
      ],
      "execution_count": null,
      "outputs": []
    },
    {
      "cell_type": "code",
      "metadata": {
        "id": "k_9P2o5o78Iy"
      },
      "source": [
        "accuracy,precision,recall=confusion_matrix(y_test,pred)"
      ],
      "execution_count": null,
      "outputs": []
    },
    {
      "cell_type": "code",
      "metadata": {
        "id": "qFl45cXa79vv",
        "colab": {
          "base_uri": "https://localhost:8080/"
        },
        "outputId": "37809e32-8158-4f95-a310-2b65b28f9b17"
      },
      "source": [
        "print(\" Accuracy : {0} \\n Precision : {1} \\n Recall : {2}\".format(accuracy, precision, recall))"
      ],
      "execution_count": null,
      "outputs": [
        {
          "output_type": "stream",
          "text": [
            " Accuracy : 0.9285714285714286 \n",
            " Precision : 0.9848484848484849 \n",
            " Recall : 0.7738095238095238\n"
          ],
          "name": "stdout"
        }
      ]
    },
    {
      "cell_type": "code",
      "metadata": {
        "id": "TKdunxsK8AW0",
        "colab": {
          "base_uri": "https://localhost:8080/"
        },
        "outputId": "131b2c29-07c6-4c68-9413-7f40e840d80a"
      },
      "source": [
        "from sklearn.metrics import precision_score\n",
        "precision_score(y_test, pred)"
      ],
      "execution_count": null,
      "outputs": [
        {
          "output_type": "execute_result",
          "data": {
            "text/plain": [
              "0.9848484848484849"
            ]
          },
          "metadata": {
            "tags": []
          },
          "execution_count": 86
        }
      ]
    },
    {
      "cell_type": "code",
      "metadata": {
        "id": "F8azlWM98DlD",
        "colab": {
          "base_uri": "https://localhost:8080/"
        },
        "outputId": "8c1091ea-061a-41f6-cf27-a2582ca4ea3d"
      },
      "source": [
        "from sklearn.metrics import recall_score\n",
        "recall_score(y_test, pred)"
      ],
      "execution_count": null,
      "outputs": [
        {
          "output_type": "execute_result",
          "data": {
            "text/plain": [
              "0.7738095238095238"
            ]
          },
          "metadata": {
            "tags": []
          },
          "execution_count": 87
        }
      ]
    },
    {
      "cell_type": "markdown",
      "metadata": {
        "id": "kJ35sozVPViS"
      },
      "source": [
        "SVM"
      ]
    },
    {
      "cell_type": "code",
      "metadata": {
        "id": "h9KVir_DFdDr"
      },
      "source": [
        "clf = SVC(gamma='auto')\n",
        "clf.fit(X_train, y_train)\n",
        "pred_svm=clf.predict(X_test)"
      ],
      "execution_count": null,
      "outputs": []
    },
    {
      "cell_type": "code",
      "metadata": {
        "colab": {
          "base_uri": "https://localhost:8080/"
        },
        "id": "KwBH8YpbQZET",
        "outputId": "7f544a74-53ec-4ddf-b7b0-ff1797702955"
      },
      "source": [
        "accuracy,precision,recall=confusion_matrix(y_test,pred_svm)\n",
        "print(\" --SVM--\\n Accuracy : {0} \\n Precision : {1} \\n Recall : {2}\".format(accuracy, precision, recall))"
      ],
      "execution_count": null,
      "outputs": [
        {
          "output_type": "stream",
          "text": [
            " --SVM--\n",
            " Accuracy : 0.7642857142857142 \n",
            " Precision : 1.0 \n",
            " Recall : 0.21428571428571427\n"
          ],
          "name": "stdout"
        }
      ]
    },
    {
      "cell_type": "markdown",
      "metadata": {
        "id": "qmE9dsnWP3AN"
      },
      "source": [
        "KNN"
      ]
    },
    {
      "cell_type": "code",
      "metadata": {
        "id": "9h4jqVJwFi3s"
      },
      "source": [
        "neigh = KNeighborsClassifier(n_neighbors=3)\n",
        "neigh.fit(X_train, y_train)\n",
        "\n",
        "pred_knn = neigh.predict(X_test)"
      ],
      "execution_count": null,
      "outputs": []
    },
    {
      "cell_type": "code",
      "metadata": {
        "colab": {
          "base_uri": "https://localhost:8080/"
        },
        "id": "ZZbTCV-JQi3M",
        "outputId": "fabdc7e7-3d20-47d8-bb1b-be1d3a81a3f8"
      },
      "source": [
        "accuracy,precision,recall=confusion_matrix(y_test,pred_knn)\n",
        "print(\" --KNN--\\n Accuracy : {0} \\n Precision : {1} \\n Recall : {2}\".format(accuracy, precision, recall))"
      ],
      "execution_count": null,
      "outputs": [
        {
          "output_type": "stream",
          "text": [
            " --KNN--\n",
            " Accuracy : 0.5845238095238096 \n",
            " Precision : 0.4193011647254576 \n",
            " Recall : 1.0\n"
          ],
          "name": "stdout"
        }
      ]
    },
    {
      "cell_type": "markdown",
      "metadata": {
        "id": "iUnhOPTXP-2w"
      },
      "source": [
        "Decision Tree"
      ]
    },
    {
      "cell_type": "code",
      "metadata": {
        "id": "n74_EZfOFkXC"
      },
      "source": [
        "dt = tree.DecisionTreeClassifier()\n",
        "dt = dt.fit(X_train, y_train)\n",
        "\n",
        "pred_dt = dt.predict(X_test)"
      ],
      "execution_count": null,
      "outputs": []
    },
    {
      "cell_type": "code",
      "metadata": {
        "id": "ngsKi8grFwcW",
        "colab": {
          "base_uri": "https://localhost:8080/"
        },
        "outputId": "be4f69a8-8af0-4397-8f20-59663ffa5ef2"
      },
      "source": [
        "accuracy,precision,recall=confusion_matrix(y_test,pred_dt)\n",
        "print(\"  --Decision Tree--\\n Accuracy : {0} \\n Precision : {1} \\n Recall : {2}\".format(accuracy, precision, recall))"
      ],
      "execution_count": null,
      "outputs": [
        {
          "output_type": "stream",
          "text": [
            "  --Decision Tree--\n",
            " Accuracy : 0.8726190476190476 \n",
            " Precision : 0.7019498607242339 \n",
            " Recall : 1.0\n"
          ],
          "name": "stdout"
        }
      ]
    }
  ]
}